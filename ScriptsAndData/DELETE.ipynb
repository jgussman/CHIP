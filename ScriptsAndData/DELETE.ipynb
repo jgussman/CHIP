{
 "cells": [
  {
   "cell_type": "code",
   "execution_count": 1,
   "metadata": {},
   "outputs": [],
   "source": [
    "from alpha_shapes import * \n",
    "from astropy import units as u\n",
    "from astropy.io import fits\n",
    "from hiresprv.auth import login\n",
    "from hiresprv.idldriver import Idldriver\n",
    "from hiresprv.database import Database\n",
    "from hiresprv.download import Download\n",
    "from PyAstronomy import pyasl\n",
    "from specutils.fitting import fit_generic_continuum\n",
    "from specutils.spectra import Spectrum1D\n",
    "from scipy import interpolate \n",
    "\n",
    "import numpy as np\n",
    "import pandas as pd \n",
    "import os\n",
    "import sys\n"
   ]
  },
  {
   "cell_type": "code",
   "execution_count": 2,
   "metadata": {},
   "outputs": [],
   "source": [
    "\n",
    "#==============\n",
    "# DO NOT COPY OVER\n",
    "spectraOutputPath = './SpectraOutput'\n",
    "rvOutputPath='./RVOutput'\n",
    "spectraOutputPath = './SpectraOutput'\n",
    "crossMatchedNames = pd.read_csv(\"../SPOCSdata/testStars.txt\",sep=\" \")\n",
    "star_ID_array = crossMatchedNames[\"HIRES\"].to_numpy()\n",
    "spectraDic = {} \n",
    "# DO NOT COPY OVER\n",
    "#=============="
   ]
  },
  {
   "cell_type": "code",
   "execution_count": 3,
   "metadata": {},
   "outputs": [
    {
     "name": "stdout",
     "output_type": "stream",
     "text": [
      "Successful login as jgussman\n"
     ]
    }
   ],
   "source": [
    "\n",
    "login('prv.cookies')                                               # For logging into the NExSci servers \n",
    "idldriver = Idldriver('prv.cookies')                          # For creating RV scripts \n",
    "state = Database('prv.cookies')                               # For retrieving data from HIRES \n",
    "dataSpectra = Download('prv.cookies',spectraOutputPath)       # For downloading Spectra\n",
    "dataRV = Download('prv.cookies', rvOutputPath)                # For downloading RV \n",
    "star_ID_array = star_ID_array \n",
    "\n",
    "\n",
    "\n"
   ]
  },
  {
   "cell_type": "code",
   "execution_count": 4,
   "metadata": {},
   "outputs": [],
   "source": [
    "def calculate_SNR(spectrum):\n",
    "    spectrum = spectrum[7:10].flatten() # Using echelle orders in the middle \n",
    "    SNR = np.mean(np.sqrt(spectrum))\n",
    "    return SNR "
   ]
  },
  {
   "cell_type": "code",
   "execution_count": 5,
   "metadata": {},
   "outputs": [],
   "source": [
    "def DownloadSpectrum(filename):\n",
    "    '''Download Individual Spectrum and ivar \n",
    "\n",
    "    Input: filename (str): name of spectrum you want to download \n",
    "\n",
    "    Output: None\n",
    "    '''\n",
    "    #print(f\"Downloading {filename}\")\n",
    "    dataSpectra.spectrum(filename.replace(\"r\",\"\"))  #Download spectra  \n",
    "    file_path = os.path.join(dataSpectra.localdir,filename + \".fits\")\n",
    "    temp_deblazedFlux = fits.getdata(file_path)\n",
    "\n",
    "    return temp_deblazedFlux\n",
    "    \n",
    "def DeleteSpectrum(filename):\n",
    "\n",
    "    #print(f\"Deleting {filename}.fits\")\n",
    "    file_path = os.path.join(dataSpectra.localdir,filename + \".fits\")\n",
    "    os.remove(file_path)\n"
   ]
  },
  {
   "cell_type": "code",
   "execution_count": 11,
   "metadata": {},
   "outputs": [
    {
     "name": "stdout",
     "output_type": "stream",
     "text": [
      "Downloading Spectra Has Finished\n"
     ]
    }
   ],
   "source": [
    "\n",
    "\n",
    "\n",
    "hiresName_fileName_snr_dic = {\"HIRESName\": [],\"FILENAME\":[],\"SNR\":[]}  \n",
    "removed_stars = {\"no RV observations\":0,\"rvcurve wasn't created\":0, \"SNR < 100\":0,\"NAN value in spectra\":0}\n",
    "rvDownloadLocation = dataRV.localdir\n",
    "\n",
    "for name in star_ID_array:\n",
    "    #Make sure the data is in workspace\n",
    "    \n",
    "    try:\n",
    "        rtn = dataRV.rvcurve(name)\n",
    "        local_path = os.path.join(rvDownloadLocation, \"vst\" + name + \".csv\")\n",
    "        temp_df = pd.read_csv(local_path)\n",
    "        \n",
    "        if not temp_df.empty:\n",
    "            filenames = temp_df['FILENAME'].to_numpy()\n",
    "            \n",
    "            # Get the spectrum with the largest SNR \n",
    "            best_SNR = (np.nan,0,np.nan)\n",
    "            for filename in filenames:\n",
    "                temp_spec = DownloadSpectrum(filename)\n",
    "                temp_SNR = calculate_SNR(temp_spec)\n",
    "                \n",
    "                if type(best_SNR[0]) != str:\n",
    "                    best_SNR = (filename, temp_SNR,temp_spec)\n",
    "                elif temp_SNR > best_SNR[1]:\n",
    "                    best_SNR = (filename, temp_SNR,temp_spec)\n",
    "                    DeleteSpectrum(best_SNR[0])\n",
    "                else:\n",
    "                    del temp_spec\n",
    "                    DeleteSpectrum(filename)\n",
    "            \n",
    "            \n",
    "            best_spectrum = best_SNR[2].flatten()\n",
    "            if best_SNR[1] < 100:\n",
    "                removed_stars[\"SNR < 100\"] += 1 \n",
    "                filename_to_delete = best_SNR[0]\n",
    "                del best_SNR\n",
    "                DeleteSpectrum(filename_to_delete)\n",
    "            elif np.isnan(best_spectrum.flatten()).any():\n",
    "                removed_stars[\"NAN value in spectra\"] += 1\n",
    "                filename_to_delete = best_SNR[0]\n",
    "                del best_SNR\n",
    "                DeleteSpectrum(filename_to_delete)\n",
    "            else:\n",
    "                hiresName_fileName_snr_dic[\"HIRESName\"].append(name)\n",
    "                hiresName_fileName_snr_dic[\"FILENAME\"].append(best_SNR[0])\n",
    "                hiresName_fileName_snr_dic[\"SNR\"].append(best_SNR[1])\n",
    "                del best_SNR\n",
    "                spectraDic[filename] = best_spectrum\n",
    "\n",
    "                # ********UNDO**************************\n",
    "                #SigmaCalculation(best_SNR[0]) #To get the sigma for Inverse variance \n",
    "                \n",
    "        else:\n",
    "            removed_stars[\"no RV observations\"] +=1 \n",
    "\n",
    "    except OSError: #This error occurs because for some reason the star's rvcurve wasn't created\n",
    "            #This is for removing these stars that have no RV metadata \n",
    "            removed_stars[\"rvcurve wasn't created\"] += 1\n",
    "            continue\n",
    "\n",
    "\n",
    "\n",
    "df = pd.DataFrame(hiresName_fileName_snr_dic) \n",
    "filename_snr_df = df.dropna() #If you don't drop the na's then other methods will break\n",
    "filename_snr_df.to_csv(\"HIRES_Filename_snr.csv\",index_label=False,index=False)\n",
    "print(\"Downloading Spectra Has Finished\")"
   ]
  },
  {
   "cell_type": "code",
   "execution_count": 12,
   "metadata": {},
   "outputs": [
    {
     "data": {
      "text/plain": [
       "{'HIRESName': ['HD1449', 'HD5873', 'HD118744'],\n",
       " 'FILENAME': ['r20100719.67', 'r20100723.63', 'r20070426.143'],\n",
       " 'SNR': [149.5636, 109.07611, 132.95981]}"
      ]
     },
     "execution_count": 12,
     "metadata": {},
     "output_type": "execute_result"
    }
   ],
   "source": [
    "hiresName_fileName_snr_dic"
   ]
  },
  {
   "cell_type": "code",
   "execution_count": 13,
   "metadata": {},
   "outputs": [
    {
     "data": {
      "text/plain": [
       "{'no RV observations': 13,\n",
       " \"rvcurve wasn't created\": 5,\n",
       " 'SNR < 100': 0,\n",
       " 'NAN value in spectra': 0}"
      ]
     },
     "execution_count": 13,
     "metadata": {},
     "output_type": "execute_result"
    }
   ],
   "source": [
    "removed_stars"
   ]
  },
  {
   "cell_type": "code",
   "execution_count": 20,
   "metadata": {},
   "outputs": [
    {
     "data": {
      "text/plain": [
       "(21,)"
      ]
     },
     "execution_count": 20,
     "metadata": {},
     "output_type": "execute_result"
    }
   ],
   "source": [
    "star_ID_array.shape"
   ]
  },
  {
   "cell_type": "code",
   "execution_count": 14,
   "metadata": {},
   "outputs": [
    {
     "data": {
      "text/plain": [
       "{'r20150204.68': array([  45.8  , 8600.265, 8747.286, ..., 7901.342, 9061.123, 1000.5  ],\n",
       "       dtype=float32),\n",
       " 'r20120827.127': array([  114.4   ,  4882.1953,  4798.2246, ..., 10214.058 , 10161.579 ,\n",
       "         1000.5   ], dtype=float32),\n",
       " 'r20131214.208': array([   42.8   ,  6954.4604,  6934.334 , ..., 14509.275 , 13029.768 ,\n",
       "         1000.5   ], dtype=float32)}"
      ]
     },
     "execution_count": 14,
     "metadata": {},
     "output_type": "execute_result"
    }
   ],
   "source": [
    "spectraDic"
   ]
  },
  {
   "cell_type": "code",
   "execution_count": null,
   "metadata": {},
   "outputs": [],
   "source": []
  }
 ],
 "metadata": {
  "kernelspec": {
   "display_name": "Python 3.8.5 ('chip')",
   "language": "python",
   "name": "python3"
  },
  "language_info": {
   "codemirror_mode": {
    "name": "ipython",
    "version": 3
   },
   "file_extension": ".py",
   "mimetype": "text/x-python",
   "name": "python",
   "nbconvert_exporter": "python",
   "pygments_lexer": "ipython3",
   "version": "3.8.5"
  },
  "orig_nbformat": 4,
  "vscode": {
   "interpreter": {
    "hash": "ccd1f5d2d1c888f83699b697136634bffe7fd79739c6ae78a93efbab81200b56"
   }
  }
 },
 "nbformat": 4,
 "nbformat_minor": 2
}
