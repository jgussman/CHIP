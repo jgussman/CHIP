{
 "cells": [
  {
   "cell_type": "markdown",
   "metadata": {},
   "source": [
    "                                       References\n",
    "[HIRES PRV Documentation](https://caltech-ipac.github.io/hiresprv/hiresprv.html)"
   ]
  },
  {
   "cell_type": "markdown",
   "metadata": {},
   "source": [
    "                                     Imports & Setup\n",
    "                                        "
   ]
  },
  {
   "cell_type": "code",
   "execution_count": 1,
   "metadata": {},
   "outputs": [],
   "source": [
    "from astropy import units as u\n",
    "from astropy.io import fits\n",
    "from hiresprv.auth import login\n",
    "from hiresprv.idldriver import Idldriver\n",
    "from hiresprv.database import Database\n",
    "from hiresprv.download import Download\n",
    "from PyAstronomy import pyasl\n",
    "from specutils.fitting import fit_generic_continuum\n",
    "from specutils.spectra import Spectrum1D\n",
    "\n",
    "import numpy as np\n",
    "import pandas as pd \n"
   ]
  },
  {
   "cell_type": "code",
   "execution_count": 5,
   "metadata": {
    "scrolled": true
   },
   "outputs": [
    {
     "name": "stdout",
     "output_type": "stream",
     "text": [
      "KOA userid: jgussman\n",
      "KOA Password: ········\n",
      "Successful login as jgussman\n"
     ]
    },
    {
     "ename": "TypeError",
     "evalue": "__init__() should return None, not 'dict'",
     "output_type": "error",
     "traceback": [
      "\u001b[1;31m---------------------------------------------------------------------------\u001b[0m",
      "\u001b[1;31mTypeError\u001b[0m                                 Traceback (most recent call last)",
      "\u001b[1;32m<ipython-input-5-831406ceb8e4>\u001b[0m in \u001b[0;36m<module>\u001b[1;34m\u001b[0m\n\u001b[0;32m      5\u001b[0m \u001b[0mstate\u001b[0m \u001b[1;33m=\u001b[0m \u001b[0mDatabase\u001b[0m\u001b[1;33m(\u001b[0m\u001b[1;34m'prv.cookies'\u001b[0m\u001b[1;33m)\u001b[0m      \u001b[1;31m# For retrieving data from HIRES\u001b[0m\u001b[1;33m\u001b[0m\u001b[1;33m\u001b[0m\u001b[0m\n\u001b[0;32m      6\u001b[0m \u001b[1;33m\u001b[0m\u001b[0m\n\u001b[1;32m----> 7\u001b[1;33m \u001b[0mdata\u001b[0m \u001b[1;33m=\u001b[0m \u001b[0mDownload\u001b[0m\u001b[1;33m(\u001b[0m\u001b[1;34m'prv.cookies'\u001b[0m\u001b[1;33m,\u001b[0m \u001b[1;34m'./output'\u001b[0m\u001b[1;33m)\u001b[0m \u001b[1;31m# For downloading spectra\u001b[0m\u001b[1;33m\u001b[0m\u001b[1;33m\u001b[0m\u001b[0m\n\u001b[0m",
      "\u001b[1;31mTypeError\u001b[0m: __init__() should return None, not 'dict'"
     ]
    }
   ],
   "source": [
    "login('prv.cookies')                 # For logging into the NExSci servers \n",
    "\n",
    "idl = Idldriver('prv.cookies')       # For creating RV scripts \n",
    "\n",
    "state = Database('prv.cookies')      # For retrieving data from HIRES \n",
    "\n",
    "data = Download('prv.cookies', './output') # For downloading spectra"
   ]
  },
  {
   "cell_type": "markdown",
   "metadata": {},
   "source": [
    "                                         Data "
   ]
  },
  {
   "cell_type": "code",
   "execution_count": 3,
   "metadata": {},
   "outputs": [],
   "source": [
    "# starnames_crossmatch_SPOCS_NEXSCI.txt was put together by Malena Rice \n",
    "# This matches SPOC stars with their HIRES ID \n",
    "crossMatchedNames = pd.read_csv(\"../spocData/starnames_crossmatch_SPOCS_NEXSCI.txt\",sep=\" \")"
   ]
  },
  {
   "cell_type": "markdown",
   "metadata": {},
   "source": [
    "                                        RV Data"
   ]
  },
  {
   "cell_type": "code",
   "execution_count": 4,
   "metadata": {},
   "outputs": [],
   "source": [
    "#Getting the RV data for each star\n",
    "#1) Find all the RV observations \n",
    "def Find_and_download_all_rv_obs(star_ID_List,idldriver,database):\n",
    "    '''    \n",
    "    INPUT: star_ID_List is a list that contains strings of the HIRES ID for stars \n",
    "           idldriver needs be a hiresprv.idldriver.Idldriver instance \n",
    "           database needs to be hiresprv.database.Database instance \n",
    "    OUTPUT: {keys = HIRES filename: value = RV Data}\n",
    "    \n",
    "    Description: This function downloads the rotational velocity metadata and\n",
    "    returns a dictionary that makes it easy to identify what stars' max observed \n",
    "    rotational velocities as well as the filenames for which they came from.\n",
    "     \n",
    "    '''\n",
    "    rv_script_name_list = []\n",
    "    problem_child_name = []\n",
    "    problem_child_rv = []\n",
    "    problem_child_filename = []\n",
    "    master_script = \"\"\n",
    "    for HIRESname in star_ID_List:\n",
    "        try:\n",
    "                #Create script for reducing RV observations\n",
    "                temp_rv_script = idldriver.create_rvscript(HIRESname,database) \n",
    "\n",
    "                length_of_name = len(HIRESname)\n",
    "                first_date = temp_rv_script[3+length_of_name:13+length_of_name].split(\".\")[0]\n",
    "\n",
    "                HIRESrvname = temp_rv_script[3:length_of_name+3].split(\" \")[0]\n",
    "\n",
    "                temp_rv_script =  \"template {0} {1}\\n\".format(HIRESrvname,first_date) + temp_rv_script\n",
    "                temp_rv_script += \"\\nrvcurve {0}\\n\".format(HIRESrvname)\n",
    "                rv_script_name_list.append(HIRESrvname)\n",
    "                master_script += temp_rv_script\n",
    "\n",
    "        except AttributeError: #This is due to the idldriver.create_rvscript \n",
    "            problem_child_name = [HIRESname] + problem_child_name\n",
    "            problem_child_rv += [pd.NA]\n",
    "            problem_child_filename += [pd.NA]\n",
    "        \n",
    "    #Run script \n",
    "    idldriver.run_script(master_script) \n",
    "    \n",
    "    #Downloading the RV data as well as getting the largest RV value for each star\n",
    "    largest_rv = {\"HIRESName\": problem_child_name,\"FILENAME\":problem_child_filename, \"RV\":problem_child_rv}  \n",
    "    localdir = data.localdir\n",
    "    for name in rv_script_name_list:\n",
    "        #Make sure the data is in workspace\n",
    "        largest_rv[\"HIRESName\"].append(name)\n",
    "        try:\n",
    "            rtn = data.rvcurve(name)\n",
    "            nameLoc = '{0}/vst{1}.csv'.format(localdir,name)\n",
    "            temp_df = pd.read_csv(nameLoc)\n",
    "            if not temp_df.empty:\n",
    "                rv_temp = abs(temp_df['RV'])\n",
    "                row = temp_df[temp_df['RV'] == rv_temp.min()]\n",
    "                if row.empty: #The absolute max rv is negative \n",
    "                    row = temp_df[temp_df['RV'] == -rv_temp.min()]\n",
    "                largest_rv[\"RV\"] += [row[\"RV\"].to_numpy()[0]]\n",
    "                largest_rv[\"FILENAME\"] += [row[\"FILENAME\"].to_numpy()[0]]\n",
    "            else:\n",
    "                largest_rv[\"RV\"] += [pd.NA]\n",
    "                largest_rv[\"FILENAME\"] += [pd.NA]\n",
    "        except OSError: #This error occurs because for some reason the star's rvcurve wasn't created\n",
    "                largest_rv[\"RV\"] += [pd.NA]\n",
    "                largest_rv[\"FILENAME\"] += [pd.NA]\n",
    "    return largest_rv"
   ]
  },
  {
   "cell_type": "markdown",
   "metadata": {},
   "source": [
    "                                       Spectra"
   ]
  },
  {
   "cell_type": "code",
   "execution_count": 8,
   "metadata": {},
   "outputs": [],
   "source": [
    "#Retreive all the Spectra \n",
    "def DownloadSpectra(filename_rv_df,download):\n",
    "    '''\n",
    "    Input: filename_rv_df dataframe with a column called \"FILENAME\" that contains the HIRES \n",
    "                          filename you want to download the deblazed spectra of. \n",
    "           download needs to be a hiresprv.download.Download instance \n",
    "   \n",
    "    Output: {HIRES FILENAME: 1-D spectra array}\n",
    "    \n",
    "    Description: THIS FUNCTION ASSUMES YOU DID .dropna() ON filename_rv_df\n",
    "    This function downloads all the \n",
    "    '''\n",
    "    \n",
    "    spectraDic = {} \n",
    "    download_Location = download.localdir #This is the second parameter of hiresprv.download.Download\n",
    "    for filename in filename_rv_df[\"FILENAME\"]:\n",
    "        #I tried to use the , seperation and new line seperation \n",
    "        #for the different file names but it doesn't seem to work.\n",
    "        #Thus, a for-loop was used!\n",
    "        download.spectrum(filename.replace(\"r\",\"\"))  #Download spectra \n",
    "        \n",
    "        temp_deblazedFlux = fits.getdata(\"{0}/{1}.fits\".format(download_Location,filename))\n",
    "        spectraDic[filename] = np.append(temp_deblazedFlux[0],[temp_deblazedFlux[i] for i in range(1,16)])     \n",
    "    \n",
    "    return spectraDic    "
   ]
  },
  {
   "cell_type": "code",
   "execution_count": 38,
   "metadata": {},
   "outputs": [],
   "source": [
    "def ContinuumNormalize(spectraDic,download):\n",
    "    '''\n",
    "    ***NOT COMPLETE***\n",
    "    Input: spectraDic is {HIRES FILENAME: 1-D spectra array}\n",
    "           download needs to be a hiresprv.download.Download instance \n",
    "           \n",
    "    Output: {HIRES FILENAME: 1-D continumm Normalized spectra}\n",
    "    \n",
    "    Description:\n",
    "    '''\n",
    "    #This is the same for all HIRES data \n",
    "    wl_solution = fits.getdata('http://caltech-ipac.github.io/hiresprv/_static/keck_rwav.fits')\n",
    "    wl_solution = np.append(wl_solution[0],[wl_solution[i] for i in range(1,16)]) #UNITS: Angstrom\n",
    "    wl_solution_micrometer = wl_solution*0.0001 #UNITS: µm\n",
    "    spectral_axis_wl_solution = wl_solution*u.um\n",
    "    photonEnergy = 1.2398 / wl_solution_micrometer #h*c/lambda = 1.2398 eV-µm/lambda \n",
    "    \n",
    "    \n",
    "    download_Location = download.localdir \n",
    "    #Continumm Normalize\n",
    "    for filename in spectraDic:\n",
    "        deblazedFlux = spectraDic[filename]\n",
    "        hdu = fits.open(\"{0}/{1}.fits\".format(download_Location,filename))\n",
    "        timeElapsed = hdu[0].header[\"ELAPTIME\"]\n",
    "        hdu.close()\n",
    "        photonsPersec = deblazedFlux/timeElapsed\n",
    "    \n",
    "        ergsPerSecFlux = photonEnergy*photonsPersec\n",
    "        \n",
    "        spectrum = Spectrum1D(flux=ergsPerSecFlux*u.Jy, spectral_axis=spectral_axis_wl_solution )\n",
    "        g1_fit = fit_generic_continuum(spectrum)\n",
    "        flux_fit = g1_fit(spectral_axis_wl_solution)\n",
    "        \n",
    "        flux_fit  = np.array(list(map(np.float,flux_fit/u.Jy)))\n",
    "        normalized = ergsPerSecFlux - flux_fit\n",
    "        spectraDic[filename] = normalized\n",
    "        \n",
    "    return spectraDic\n"
   ]
  },
  {
   "cell_type": "code",
   "execution_count": 51,
   "metadata": {},
   "outputs": [],
   "source": [
    "def CrossCorrelate(filename_rv_df,normalized_Spectra):\n",
    "    '''\n",
    "    ***NOT COMPLETE***\n",
    "    \n",
    "    Input: \n",
    "   \n",
    "    Output: \n",
    "    \n",
    "    Description: THIS FUNCTION ASSUMES YOU DID .dropna() ON THE DATAFRAME\n",
    "    '''\n",
    "    wvnum, wvlen, crf, tel, c, n = np.genfromtxt(\"../Atlases/solarAtlas.txt\",skip_header=1,unpack=True)\n",
    "    wvnum, wvlen, crf, tel, c, n = wvnum[::-1], wvlen[::-1], crf[::-1], tel[::-1], c[::-1], n[::-1] \n",
    "    \n",
    "    wl_solution = fits.getdata('http://caltech-ipac.github.io/hiresprv/_static/keck_rwav.fits')\n",
    "    wl_solution = np.append(wl_solution[0],[wl_solution[i] for i in range(1,16)])\n",
    "    \n",
    "    crossCorrelatedspectra = {} #Key: FILENAME Values: (correlated wavelength, normalized flux)\n",
    "    for i in range(filename_rv_df.shape[0]):\n",
    "        row = filename_rv_df.iloc[i]\n",
    "        filename = row[1]\n",
    "        maxRV = abs(row[2])\n",
    "        \n",
    "        normalizedFlux = normalized_Spectra[filename]\n",
    "        \n",
    "        rv, cc = pyasl.crosscorrRV(wl_solution, normalizedFlux, wvlen,c, -1*maxRV, maxRV, maxRV/100., skipedge=25)\n",
    "        maxind = np.argmax(cc)\n",
    "        argmaxRV = rv[maxind]  #UNITS: km/s \n",
    "        \n",
    "        # z = v_0/c    \n",
    "        z = (argmaxRV/299_792.458) #UNITS: None \n",
    "        computeShiftedWavelength = lambda wl: wl + wl*z #UNITS: Angstroms \n",
    "        shifted_wl = np.array(list(map(computeShiftedWavelength,wl_solution)))\n",
    "        \n",
    "        #Making the key the HIRES ID so I easily convert it back to the Spoc ID later\n",
    "        crossCorrelatedspectra[row[0]] = (shifted_wl,normalizedFlux) \n",
    "    \n",
    "    return crossCorrelatedspectra"
   ]
  },
  {
   "cell_type": "code",
   "execution_count": 58,
   "metadata": {},
   "outputs": [],
   "source": [
    "def Interpolate(spectraDic):\n",
    "    '''\n",
    "    ***NOT COMPLETE***\n",
    "    \n",
    "    Input: \n",
    "   \n",
    "    Output: \n",
    "    \n",
    "    Description: THIS FUNCTION ASSUMES YOU DID .dropna() ON THE DATAFRAME\n",
    "    '''\n",
    "    \n",
    "    #Interpolate the spectra with each other to get the same wavelength scale for all of them.\n",
    "    firstKey = next(iter(spectraDic))\n",
    "    first_spectra = spectraDic[firstKey][0]\n",
    "    wl_length = len(first_spectra)\n",
    "    \n",
    "    \n",
    "    maxMinVal = float('-inf')\n",
    "    minMaxVal = float('inf')\n",
    "    #Finds the max minimum wavelength val & finds the min maximum wavelenght val \n",
    "    for spectra_flux_tuple in spectraDic.values(): \n",
    "        #Assumption: wavelength is sorted from the 0th index being min,\n",
    "        #            the len(wavelength array)-1 is the max wavelength val,\n",
    "        #            all the wavelength arrays are the same length.\n",
    "        temp_spectra = spectra_flux_tuple[0]\n",
    "        temp_min_wl = temp_spectra[0]\n",
    "        temp_max_wl = temp_spectra[wl_length-1]\n",
    "        \n",
    "        if maxMinVal < temp_min_wl:\n",
    "            maxMinVal = temp_min_wl\n",
    "        if minMaxVal > temp_max_wl:\n",
    "            minMaxVal = temp_max_wl\n",
    "    \n",
    "    \n",
    "    interpolate_over = [wl for wl in first_spectra if wl >= maxMinVal and wl<=minMaxVal]\n",
    "    \n",
    "    fluxDic = {}\n",
    "    for HIRES_ID in spectraDic:\n",
    "        wl = spectraDic[HIRES_ID][0]\n",
    "        flux_norm = spectraDic[HIRES_ID][1]\n",
    "        interpolated_flux = np.interp(interpolate_over,x,flux_norm)\n",
    "        fluxDic[HIRES_ID] = interpolated_flux\n",
    "    \n",
    "    #Saving \n",
    "    np.savetxt(\"interpolated_wl.csv\",interpolate_over,delimiter=\",\")\n",
    "    fluxDF = pd.DataFrame(fluxDic)\n",
    "    fluxDF.to_csv(\"fluxes_for_HIRES.csv\",index_label=False,index=False)\n",
    "    return fluxDF\n",
    "    "
   ]
  },
  {
   "cell_type": "markdown",
   "metadata": {},
   "source": [
    "                                       Running"
   ]
  },
  {
   "cell_type": "code",
   "execution_count": 6,
   "metadata": {},
   "outputs": [
    {
     "name": "stdout",
     "output_type": "stream",
     "text": [
      "status= ok\n",
      "msg= Script running in background. Consult monitor for status.\n"
     ]
    }
   ],
   "source": [
    "#RV\n",
    "name_filename_rv_dic = Find_and_download_all_rv_obs(crossMatchedNames[\"HIRES\"].to_numpy(),idl,state)\n",
    "name_filename_rv_df = pd.DataFrame(name_filename_rv_dic)\n",
    "name_filename_rv_df.to_csv(\"HIRES_Filename_rv.csv\",index_label=False,index=False)"
   ]
  },
  {
   "cell_type": "code",
   "execution_count": 9,
   "metadata": {},
   "outputs": [],
   "source": [
    "#Download Spectra \n",
    "#I'm testing different function at different times. That is why I am not using \n",
    "#name_filename_rv_df \n",
    "name_filename_rv_df = pd.read_csv(\"HIRES_Filename_rv.csv\").dropna() \n",
    "data = Download('prv.cookies', './spectraOutput') # For downloading spectra\n",
    "spectraForStars = DownloadSpectra(name_filename_rv_df,data)"
   ]
  },
  {
   "cell_type": "code",
   "execution_count": 39,
   "metadata": {},
   "outputs": [
    {
     "name": "stderr",
     "output_type": "stream",
     "text": [
      "WARNING: Model is linear in parameters; consider using linear fitting methods. [astropy.modeling.fitting]\n",
      "WARNING:astropy:Model is linear in parameters; consider using linear fitting methods.\n"
     ]
    },
    {
     "name": "stdout",
     "output_type": "stream",
     "text": [
      "It took 39.51186061700185 minutes to complete continumm normalize on ~700 objects\n"
     ]
    }
   ],
   "source": [
    "#Continum Normalize\n",
    "###-------DELETE THIS FROM HERE------------\n",
    "data = Download('prv.cookies', './spectraOutput')\n",
    "name_filename_rv_df = pd.read_csv(\"HIRES_Filename_rv.csv\").dropna()\n",
    "spectraDic = {}\n",
    "download_Location = data.localdir \n",
    "for filename in name_filename_rv_df[\"FILENAME\"]:\n",
    "    temp_deblazedFlux = fits.getdata(\"{0}/{1}.fits\".format(download_Location,filename))\n",
    "    spectraDic[filename] = np.append(temp_deblazedFlux[0],[temp_deblazedFlux[i] for i in range(1,16)])     \n",
    "spectraForStars = spectraDic \n",
    "import time \n",
    "start_time  = time.time()\n",
    "normalizedSpectraDic = ContinuumNormalize(spectraForStars,data)\n",
    "end_time = time.time() - start_time \n",
    "print(f\"It took {end_time/60} minutes to complete continumm normalize on 751 objects\")\n",
    "###------STOP DELETING HERE------------\n",
    "\n",
    "\n",
    "# normalizedSpectra = ContinuumNormalize(spectraForStars,data)"
   ]
  },
  {
   "cell_type": "code",
   "execution_count": 53,
   "metadata": {},
   "outputs": [],
   "source": [
    "crossCorrelatedSpectra = CrossCorrelate(name_filename_rv_df,normalizedSpectraDic)"
   ]
  },
  {
   "cell_type": "code",
   "execution_count": 59,
   "metadata": {},
   "outputs": [
    {
     "data": {
      "text/html": [
       "<div>\n",
       "<style scoped>\n",
       "    .dataframe tbody tr th:only-of-type {\n",
       "        vertical-align: middle;\n",
       "    }\n",
       "\n",
       "    .dataframe tbody tr th {\n",
       "        vertical-align: top;\n",
       "    }\n",
       "\n",
       "    .dataframe thead th {\n",
       "        text-align: right;\n",
       "    }\n",
       "</style>\n",
       "<table border=\"1\" class=\"dataframe\">\n",
       "  <thead>\n",
       "    <tr style=\"text-align: right;\">\n",
       "      <th></th>\n",
       "      <th>33822</th>\n",
       "      <th>72905</th>\n",
       "      <th>109409</th>\n",
       "      <th>26965</th>\n",
       "      <th>38858</th>\n",
       "      <th>34411</th>\n",
       "      <th>50692</th>\n",
       "      <th>66428</th>\n",
       "      <th>62613</th>\n",
       "      <th>61994</th>\n",
       "      <th>...</th>\n",
       "      <th>75407</th>\n",
       "      <th>141937</th>\n",
       "      <th>109749</th>\n",
       "      <th>117207</th>\n",
       "      <th>130322</th>\n",
       "      <th>179306</th>\n",
       "      <th>1666</th>\n",
       "      <th>2564</th>\n",
       "      <th>231701</th>\n",
       "      <th>192263</th>\n",
       "    </tr>\n",
       "  </thead>\n",
       "  <tbody>\n",
       "    <tr>\n",
       "      <th>0</th>\n",
       "      <td>4.247730</td>\n",
       "      <td>-214.364208</td>\n",
       "      <td>-55.602183</td>\n",
       "      <td>-828.024643</td>\n",
       "      <td>-304.063078</td>\n",
       "      <td>-603.129723</td>\n",
       "      <td>-322.642104</td>\n",
       "      <td>-13.947193</td>\n",
       "      <td>-248.747221</td>\n",
       "      <td>-49.851466</td>\n",
       "      <td>...</td>\n",
       "      <td>-66.580834</td>\n",
       "      <td>-147.146712</td>\n",
       "      <td>-8.203871</td>\n",
       "      <td>-43.064300</td>\n",
       "      <td>-59.496024</td>\n",
       "      <td>-50.950006</td>\n",
       "      <td>-48.008949</td>\n",
       "      <td>-146.660779</td>\n",
       "      <td>-27.061961</td>\n",
       "      <td>-23.572152</td>\n",
       "    </tr>\n",
       "    <tr>\n",
       "      <th>1</th>\n",
       "      <td>1.312820</td>\n",
       "      <td>-217.441927</td>\n",
       "      <td>-89.060598</td>\n",
       "      <td>-778.178320</td>\n",
       "      <td>-279.962716</td>\n",
       "      <td>-712.313409</td>\n",
       "      <td>-287.463902</td>\n",
       "      <td>-13.530516</td>\n",
       "      <td>-307.704991</td>\n",
       "      <td>-39.353261</td>\n",
       "      <td>...</td>\n",
       "      <td>-69.277565</td>\n",
       "      <td>-135.178834</td>\n",
       "      <td>-8.933408</td>\n",
       "      <td>-49.336221</td>\n",
       "      <td>-50.306605</td>\n",
       "      <td>-43.229296</td>\n",
       "      <td>-52.679343</td>\n",
       "      <td>-138.750231</td>\n",
       "      <td>-28.471641</td>\n",
       "      <td>-10.463437</td>\n",
       "    </tr>\n",
       "    <tr>\n",
       "      <th>2</th>\n",
       "      <td>-3.467142</td>\n",
       "      <td>-238.896615</td>\n",
       "      <td>-124.110722</td>\n",
       "      <td>-1226.823528</td>\n",
       "      <td>-266.928499</td>\n",
       "      <td>-602.562106</td>\n",
       "      <td>-284.577511</td>\n",
       "      <td>-13.278602</td>\n",
       "      <td>-393.497036</td>\n",
       "      <td>-28.850710</td>\n",
       "      <td>...</td>\n",
       "      <td>-86.721305</td>\n",
       "      <td>-121.656175</td>\n",
       "      <td>-8.025398</td>\n",
       "      <td>-41.265164</td>\n",
       "      <td>-39.719137</td>\n",
       "      <td>-34.345048</td>\n",
       "      <td>-51.759342</td>\n",
       "      <td>-128.859771</td>\n",
       "      <td>-27.553201</td>\n",
       "      <td>-4.196998</td>\n",
       "    </tr>\n",
       "    <tr>\n",
       "      <th>3</th>\n",
       "      <td>-10.852873</td>\n",
       "      <td>-252.322276</td>\n",
       "      <td>-151.450945</td>\n",
       "      <td>-1362.908743</td>\n",
       "      <td>-265.562754</td>\n",
       "      <td>-625.034939</td>\n",
       "      <td>-263.702388</td>\n",
       "      <td>-12.755023</td>\n",
       "      <td>-466.844495</td>\n",
       "      <td>-40.154237</td>\n",
       "      <td>...</td>\n",
       "      <td>-107.734253</td>\n",
       "      <td>-108.516284</td>\n",
       "      <td>-9.131776</td>\n",
       "      <td>-57.040812</td>\n",
       "      <td>-40.829017</td>\n",
       "      <td>-26.614133</td>\n",
       "      <td>-52.399073</td>\n",
       "      <td>-121.657986</td>\n",
       "      <td>-28.426799</td>\n",
       "      <td>-1.982406</td>\n",
       "    </tr>\n",
       "    <tr>\n",
       "      <th>4</th>\n",
       "      <td>-18.360899</td>\n",
       "      <td>-286.283744</td>\n",
       "      <td>-183.003485</td>\n",
       "      <td>-2102.633319</td>\n",
       "      <td>-263.145817</td>\n",
       "      <td>-579.307440</td>\n",
       "      <td>-253.154217</td>\n",
       "      <td>-12.600095</td>\n",
       "      <td>-540.690303</td>\n",
       "      <td>-30.407370</td>\n",
       "      <td>...</td>\n",
       "      <td>-132.419344</td>\n",
       "      <td>-100.835776</td>\n",
       "      <td>-8.441248</td>\n",
       "      <td>-60.028275</td>\n",
       "      <td>-33.493258</td>\n",
       "      <td>-21.032568</td>\n",
       "      <td>-53.071499</td>\n",
       "      <td>-109.397946</td>\n",
       "      <td>-27.616711</td>\n",
       "      <td>2.142648</td>\n",
       "    </tr>\n",
       "    <tr>\n",
       "      <th>...</th>\n",
       "      <td>...</td>\n",
       "      <td>...</td>\n",
       "      <td>...</td>\n",
       "      <td>...</td>\n",
       "      <td>...</td>\n",
       "      <td>...</td>\n",
       "      <td>...</td>\n",
       "      <td>...</td>\n",
       "      <td>...</td>\n",
       "      <td>...</td>\n",
       "      <td>...</td>\n",
       "      <td>...</td>\n",
       "      <td>...</td>\n",
       "      <td>...</td>\n",
       "      <td>...</td>\n",
       "      <td>...</td>\n",
       "      <td>...</td>\n",
       "      <td>...</td>\n",
       "      <td>...</td>\n",
       "      <td>...</td>\n",
       "      <td>...</td>\n",
       "    </tr>\n",
       "    <tr>\n",
       "      <th>64229</th>\n",
       "      <td>-124.635868</td>\n",
       "      <td>-521.767328</td>\n",
       "      <td>-461.916309</td>\n",
       "      <td>-3132.704707</td>\n",
       "      <td>-911.333897</td>\n",
       "      <td>-1911.857958</td>\n",
       "      <td>-623.594506</td>\n",
       "      <td>-58.562807</td>\n",
       "      <td>-544.697799</td>\n",
       "      <td>-289.993393</td>\n",
       "      <td>...</td>\n",
       "      <td>-480.639584</td>\n",
       "      <td>-367.015562</td>\n",
       "      <td>-153.350504</td>\n",
       "      <td>-513.873507</td>\n",
       "      <td>-188.114462</td>\n",
       "      <td>-62.389116</td>\n",
       "      <td>-93.673562</td>\n",
       "      <td>-149.232601</td>\n",
       "      <td>-118.243465</td>\n",
       "      <td>-270.185320</td>\n",
       "    </tr>\n",
       "    <tr>\n",
       "      <th>64230</th>\n",
       "      <td>-122.737778</td>\n",
       "      <td>-507.970557</td>\n",
       "      <td>-463.275212</td>\n",
       "      <td>-3182.477113</td>\n",
       "      <td>-963.951621</td>\n",
       "      <td>-1913.224402</td>\n",
       "      <td>-626.391243</td>\n",
       "      <td>-56.514769</td>\n",
       "      <td>-544.330267</td>\n",
       "      <td>-299.304516</td>\n",
       "      <td>...</td>\n",
       "      <td>-411.506248</td>\n",
       "      <td>-409.632966</td>\n",
       "      <td>-141.293612</td>\n",
       "      <td>-471.792450</td>\n",
       "      <td>-201.852853</td>\n",
       "      <td>-62.941007</td>\n",
       "      <td>-90.712727</td>\n",
       "      <td>-158.982598</td>\n",
       "      <td>-123.050639</td>\n",
       "      <td>-243.482497</td>\n",
       "    </tr>\n",
       "    <tr>\n",
       "      <th>64231</th>\n",
       "      <td>-122.201850</td>\n",
       "      <td>-509.822035</td>\n",
       "      <td>-456.084287</td>\n",
       "      <td>-3203.394257</td>\n",
       "      <td>-1042.701736</td>\n",
       "      <td>-1953.971370</td>\n",
       "      <td>-601.178884</td>\n",
       "      <td>-56.476511</td>\n",
       "      <td>-538.634601</td>\n",
       "      <td>-295.855784</td>\n",
       "      <td>...</td>\n",
       "      <td>-394.669530</td>\n",
       "      <td>-465.673032</td>\n",
       "      <td>-129.124777</td>\n",
       "      <td>-425.322870</td>\n",
       "      <td>-228.359166</td>\n",
       "      <td>-63.410227</td>\n",
       "      <td>-87.876395</td>\n",
       "      <td>-153.351513</td>\n",
       "      <td>-127.892795</td>\n",
       "      <td>-215.016291</td>\n",
       "    </tr>\n",
       "    <tr>\n",
       "      <th>64232</th>\n",
       "      <td>-122.464006</td>\n",
       "      <td>-507.969064</td>\n",
       "      <td>-463.385262</td>\n",
       "      <td>-3223.640821</td>\n",
       "      <td>-1182.883782</td>\n",
       "      <td>-2007.651356</td>\n",
       "      <td>-596.231848</td>\n",
       "      <td>-57.204525</td>\n",
       "      <td>-559.112107</td>\n",
       "      <td>-304.074337</td>\n",
       "      <td>...</td>\n",
       "      <td>-353.592354</td>\n",
       "      <td>-537.012513</td>\n",
       "      <td>-113.473135</td>\n",
       "      <td>-374.865082</td>\n",
       "      <td>-264.617373</td>\n",
       "      <td>-64.262586</td>\n",
       "      <td>-88.324999</td>\n",
       "      <td>-153.876574</td>\n",
       "      <td>-127.585862</td>\n",
       "      <td>-189.801574</td>\n",
       "    </tr>\n",
       "    <tr>\n",
       "      <th>64233</th>\n",
       "      <td>-121.732697</td>\n",
       "      <td>-511.391044</td>\n",
       "      <td>-463.710366</td>\n",
       "      <td>-3293.066066</td>\n",
       "      <td>-1300.874395</td>\n",
       "      <td>-1984.237975</td>\n",
       "      <td>-615.801907</td>\n",
       "      <td>-56.784007</td>\n",
       "      <td>-547.896097</td>\n",
       "      <td>-306.709618</td>\n",
       "      <td>...</td>\n",
       "      <td>-345.761043</td>\n",
       "      <td>-601.845422</td>\n",
       "      <td>-100.308383</td>\n",
       "      <td>-340.194963</td>\n",
       "      <td>-304.276720</td>\n",
       "      <td>-64.907809</td>\n",
       "      <td>-88.707155</td>\n",
       "      <td>-158.873159</td>\n",
       "      <td>-124.861512</td>\n",
       "      <td>-170.205561</td>\n",
       "    </tr>\n",
       "  </tbody>\n",
       "</table>\n",
       "<p>64234 rows × 751 columns</p>\n",
       "</div>"
      ],
      "text/plain": [
       "            33822       72905      109409        26965        38858  \\\n",
       "0        4.247730 -214.364208  -55.602183  -828.024643  -304.063078   \n",
       "1        1.312820 -217.441927  -89.060598  -778.178320  -279.962716   \n",
       "2       -3.467142 -238.896615 -124.110722 -1226.823528  -266.928499   \n",
       "3      -10.852873 -252.322276 -151.450945 -1362.908743  -265.562754   \n",
       "4      -18.360899 -286.283744 -183.003485 -2102.633319  -263.145817   \n",
       "...           ...         ...         ...          ...          ...   \n",
       "64229 -124.635868 -521.767328 -461.916309 -3132.704707  -911.333897   \n",
       "64230 -122.737778 -507.970557 -463.275212 -3182.477113  -963.951621   \n",
       "64231 -122.201850 -509.822035 -456.084287 -3203.394257 -1042.701736   \n",
       "64232 -122.464006 -507.969064 -463.385262 -3223.640821 -1182.883782   \n",
       "64233 -121.732697 -511.391044 -463.710366 -3293.066066 -1300.874395   \n",
       "\n",
       "             34411       50692      66428       62613       61994  ...  \\\n",
       "0      -603.129723 -322.642104 -13.947193 -248.747221  -49.851466  ...   \n",
       "1      -712.313409 -287.463902 -13.530516 -307.704991  -39.353261  ...   \n",
       "2      -602.562106 -284.577511 -13.278602 -393.497036  -28.850710  ...   \n",
       "3      -625.034939 -263.702388 -12.755023 -466.844495  -40.154237  ...   \n",
       "4      -579.307440 -253.154217 -12.600095 -540.690303  -30.407370  ...   \n",
       "...            ...         ...        ...         ...         ...  ...   \n",
       "64229 -1911.857958 -623.594506 -58.562807 -544.697799 -289.993393  ...   \n",
       "64230 -1913.224402 -626.391243 -56.514769 -544.330267 -299.304516  ...   \n",
       "64231 -1953.971370 -601.178884 -56.476511 -538.634601 -295.855784  ...   \n",
       "64232 -2007.651356 -596.231848 -57.204525 -559.112107 -304.074337  ...   \n",
       "64233 -1984.237975 -615.801907 -56.784007 -547.896097 -306.709618  ...   \n",
       "\n",
       "            75407      141937      109749      117207      130322     179306  \\\n",
       "0      -66.580834 -147.146712   -8.203871  -43.064300  -59.496024 -50.950006   \n",
       "1      -69.277565 -135.178834   -8.933408  -49.336221  -50.306605 -43.229296   \n",
       "2      -86.721305 -121.656175   -8.025398  -41.265164  -39.719137 -34.345048   \n",
       "3     -107.734253 -108.516284   -9.131776  -57.040812  -40.829017 -26.614133   \n",
       "4     -132.419344 -100.835776   -8.441248  -60.028275  -33.493258 -21.032568   \n",
       "...           ...         ...         ...         ...         ...        ...   \n",
       "64229 -480.639584 -367.015562 -153.350504 -513.873507 -188.114462 -62.389116   \n",
       "64230 -411.506248 -409.632966 -141.293612 -471.792450 -201.852853 -62.941007   \n",
       "64231 -394.669530 -465.673032 -129.124777 -425.322870 -228.359166 -63.410227   \n",
       "64232 -353.592354 -537.012513 -113.473135 -374.865082 -264.617373 -64.262586   \n",
       "64233 -345.761043 -601.845422 -100.308383 -340.194963 -304.276720 -64.907809   \n",
       "\n",
       "            1666        2564      231701      192263  \n",
       "0     -48.008949 -146.660779  -27.061961  -23.572152  \n",
       "1     -52.679343 -138.750231  -28.471641  -10.463437  \n",
       "2     -51.759342 -128.859771  -27.553201   -4.196998  \n",
       "3     -52.399073 -121.657986  -28.426799   -1.982406  \n",
       "4     -53.071499 -109.397946  -27.616711    2.142648  \n",
       "...          ...         ...         ...         ...  \n",
       "64229 -93.673562 -149.232601 -118.243465 -270.185320  \n",
       "64230 -90.712727 -158.982598 -123.050639 -243.482497  \n",
       "64231 -87.876395 -153.351513 -127.892795 -215.016291  \n",
       "64232 -88.324999 -153.876574 -127.585862 -189.801574  \n",
       "64233 -88.707155 -158.873159 -124.861512 -170.205561  \n",
       "\n",
       "[64234 rows x 751 columns]"
      ]
     },
     "execution_count": 59,
     "metadata": {},
     "output_type": "execute_result"
    }
   ],
   "source": [
    "Interpolate(crossCorrelatedSpectra)"
   ]
  },
  {
   "cell_type": "code",
   "execution_count": 60,
   "metadata": {},
   "outputs": [
    {
     "data": {
      "text/html": [
       "<div>\n",
       "<style scoped>\n",
       "    .dataframe tbody tr th:only-of-type {\n",
       "        vertical-align: middle;\n",
       "    }\n",
       "\n",
       "    .dataframe tbody tr th {\n",
       "        vertical-align: top;\n",
       "    }\n",
       "\n",
       "    .dataframe thead th {\n",
       "        text-align: right;\n",
       "    }\n",
       "</style>\n",
       "<table border=\"1\" class=\"dataframe\">\n",
       "  <thead>\n",
       "    <tr style=\"text-align: right;\">\n",
       "      <th></th>\n",
       "      <th>33822</th>\n",
       "      <th>72905</th>\n",
       "      <th>109409</th>\n",
       "      <th>26965</th>\n",
       "      <th>38858</th>\n",
       "      <th>34411</th>\n",
       "      <th>50692</th>\n",
       "      <th>66428</th>\n",
       "      <th>62613</th>\n",
       "      <th>61994</th>\n",
       "      <th>...</th>\n",
       "      <th>75407</th>\n",
       "      <th>141937</th>\n",
       "      <th>109749</th>\n",
       "      <th>117207</th>\n",
       "      <th>130322</th>\n",
       "      <th>179306</th>\n",
       "      <th>1666</th>\n",
       "      <th>2564</th>\n",
       "      <th>231701</th>\n",
       "      <th>192263</th>\n",
       "    </tr>\n",
       "  </thead>\n",
       "  <tbody>\n",
       "    <tr>\n",
       "      <th>0</th>\n",
       "      <td>4.247730</td>\n",
       "      <td>-214.364208</td>\n",
       "      <td>-55.602183</td>\n",
       "      <td>-828.024643</td>\n",
       "      <td>-304.063078</td>\n",
       "      <td>-603.129723</td>\n",
       "      <td>-322.642104</td>\n",
       "      <td>-13.947193</td>\n",
       "      <td>-248.747221</td>\n",
       "      <td>-49.851466</td>\n",
       "      <td>...</td>\n",
       "      <td>-66.580834</td>\n",
       "      <td>-147.146712</td>\n",
       "      <td>-8.203871</td>\n",
       "      <td>-43.064300</td>\n",
       "      <td>-59.496024</td>\n",
       "      <td>-50.950006</td>\n",
       "      <td>-48.008949</td>\n",
       "      <td>-146.660779</td>\n",
       "      <td>-27.061961</td>\n",
       "      <td>-23.572152</td>\n",
       "    </tr>\n",
       "    <tr>\n",
       "      <th>1</th>\n",
       "      <td>1.312820</td>\n",
       "      <td>-217.441927</td>\n",
       "      <td>-89.060598</td>\n",
       "      <td>-778.178320</td>\n",
       "      <td>-279.962716</td>\n",
       "      <td>-712.313409</td>\n",
       "      <td>-287.463902</td>\n",
       "      <td>-13.530516</td>\n",
       "      <td>-307.704991</td>\n",
       "      <td>-39.353261</td>\n",
       "      <td>...</td>\n",
       "      <td>-69.277565</td>\n",
       "      <td>-135.178834</td>\n",
       "      <td>-8.933408</td>\n",
       "      <td>-49.336221</td>\n",
       "      <td>-50.306605</td>\n",
       "      <td>-43.229296</td>\n",
       "      <td>-52.679343</td>\n",
       "      <td>-138.750231</td>\n",
       "      <td>-28.471641</td>\n",
       "      <td>-10.463437</td>\n",
       "    </tr>\n",
       "    <tr>\n",
       "      <th>2</th>\n",
       "      <td>-3.467142</td>\n",
       "      <td>-238.896615</td>\n",
       "      <td>-124.110722</td>\n",
       "      <td>-1226.823528</td>\n",
       "      <td>-266.928499</td>\n",
       "      <td>-602.562106</td>\n",
       "      <td>-284.577511</td>\n",
       "      <td>-13.278602</td>\n",
       "      <td>-393.497036</td>\n",
       "      <td>-28.850710</td>\n",
       "      <td>...</td>\n",
       "      <td>-86.721305</td>\n",
       "      <td>-121.656175</td>\n",
       "      <td>-8.025398</td>\n",
       "      <td>-41.265164</td>\n",
       "      <td>-39.719137</td>\n",
       "      <td>-34.345048</td>\n",
       "      <td>-51.759342</td>\n",
       "      <td>-128.859771</td>\n",
       "      <td>-27.553201</td>\n",
       "      <td>-4.196998</td>\n",
       "    </tr>\n",
       "    <tr>\n",
       "      <th>3</th>\n",
       "      <td>-10.852873</td>\n",
       "      <td>-252.322276</td>\n",
       "      <td>-151.450945</td>\n",
       "      <td>-1362.908743</td>\n",
       "      <td>-265.562754</td>\n",
       "      <td>-625.034939</td>\n",
       "      <td>-263.702388</td>\n",
       "      <td>-12.755023</td>\n",
       "      <td>-466.844495</td>\n",
       "      <td>-40.154237</td>\n",
       "      <td>...</td>\n",
       "      <td>-107.734253</td>\n",
       "      <td>-108.516284</td>\n",
       "      <td>-9.131776</td>\n",
       "      <td>-57.040812</td>\n",
       "      <td>-40.829017</td>\n",
       "      <td>-26.614133</td>\n",
       "      <td>-52.399073</td>\n",
       "      <td>-121.657986</td>\n",
       "      <td>-28.426799</td>\n",
       "      <td>-1.982406</td>\n",
       "    </tr>\n",
       "    <tr>\n",
       "      <th>4</th>\n",
       "      <td>-18.360899</td>\n",
       "      <td>-286.283744</td>\n",
       "      <td>-183.003485</td>\n",
       "      <td>-2102.633319</td>\n",
       "      <td>-263.145817</td>\n",
       "      <td>-579.307440</td>\n",
       "      <td>-253.154217</td>\n",
       "      <td>-12.600095</td>\n",
       "      <td>-540.690303</td>\n",
       "      <td>-30.407370</td>\n",
       "      <td>...</td>\n",
       "      <td>-132.419344</td>\n",
       "      <td>-100.835776</td>\n",
       "      <td>-8.441248</td>\n",
       "      <td>-60.028275</td>\n",
       "      <td>-33.493258</td>\n",
       "      <td>-21.032568</td>\n",
       "      <td>-53.071499</td>\n",
       "      <td>-109.397946</td>\n",
       "      <td>-27.616711</td>\n",
       "      <td>2.142648</td>\n",
       "    </tr>\n",
       "    <tr>\n",
       "      <th>...</th>\n",
       "      <td>...</td>\n",
       "      <td>...</td>\n",
       "      <td>...</td>\n",
       "      <td>...</td>\n",
       "      <td>...</td>\n",
       "      <td>...</td>\n",
       "      <td>...</td>\n",
       "      <td>...</td>\n",
       "      <td>...</td>\n",
       "      <td>...</td>\n",
       "      <td>...</td>\n",
       "      <td>...</td>\n",
       "      <td>...</td>\n",
       "      <td>...</td>\n",
       "      <td>...</td>\n",
       "      <td>...</td>\n",
       "      <td>...</td>\n",
       "      <td>...</td>\n",
       "      <td>...</td>\n",
       "      <td>...</td>\n",
       "      <td>...</td>\n",
       "    </tr>\n",
       "    <tr>\n",
       "      <th>64229</th>\n",
       "      <td>-124.635868</td>\n",
       "      <td>-521.767328</td>\n",
       "      <td>-461.916309</td>\n",
       "      <td>-3132.704707</td>\n",
       "      <td>-911.333897</td>\n",
       "      <td>-1911.857958</td>\n",
       "      <td>-623.594506</td>\n",
       "      <td>-58.562807</td>\n",
       "      <td>-544.697799</td>\n",
       "      <td>-289.993393</td>\n",
       "      <td>...</td>\n",
       "      <td>-480.639584</td>\n",
       "      <td>-367.015562</td>\n",
       "      <td>-153.350504</td>\n",
       "      <td>-513.873507</td>\n",
       "      <td>-188.114462</td>\n",
       "      <td>-62.389116</td>\n",
       "      <td>-93.673562</td>\n",
       "      <td>-149.232601</td>\n",
       "      <td>-118.243465</td>\n",
       "      <td>-270.185320</td>\n",
       "    </tr>\n",
       "    <tr>\n",
       "      <th>64230</th>\n",
       "      <td>-122.737778</td>\n",
       "      <td>-507.970557</td>\n",
       "      <td>-463.275212</td>\n",
       "      <td>-3182.477113</td>\n",
       "      <td>-963.951621</td>\n",
       "      <td>-1913.224402</td>\n",
       "      <td>-626.391243</td>\n",
       "      <td>-56.514769</td>\n",
       "      <td>-544.330267</td>\n",
       "      <td>-299.304516</td>\n",
       "      <td>...</td>\n",
       "      <td>-411.506248</td>\n",
       "      <td>-409.632966</td>\n",
       "      <td>-141.293612</td>\n",
       "      <td>-471.792450</td>\n",
       "      <td>-201.852853</td>\n",
       "      <td>-62.941007</td>\n",
       "      <td>-90.712727</td>\n",
       "      <td>-158.982598</td>\n",
       "      <td>-123.050639</td>\n",
       "      <td>-243.482497</td>\n",
       "    </tr>\n",
       "    <tr>\n",
       "      <th>64231</th>\n",
       "      <td>-122.201850</td>\n",
       "      <td>-509.822035</td>\n",
       "      <td>-456.084287</td>\n",
       "      <td>-3203.394257</td>\n",
       "      <td>-1042.701736</td>\n",
       "      <td>-1953.971370</td>\n",
       "      <td>-601.178884</td>\n",
       "      <td>-56.476511</td>\n",
       "      <td>-538.634601</td>\n",
       "      <td>-295.855784</td>\n",
       "      <td>...</td>\n",
       "      <td>-394.669530</td>\n",
       "      <td>-465.673032</td>\n",
       "      <td>-129.124777</td>\n",
       "      <td>-425.322870</td>\n",
       "      <td>-228.359166</td>\n",
       "      <td>-63.410227</td>\n",
       "      <td>-87.876395</td>\n",
       "      <td>-153.351513</td>\n",
       "      <td>-127.892795</td>\n",
       "      <td>-215.016291</td>\n",
       "    </tr>\n",
       "    <tr>\n",
       "      <th>64232</th>\n",
       "      <td>-122.464006</td>\n",
       "      <td>-507.969064</td>\n",
       "      <td>-463.385262</td>\n",
       "      <td>-3223.640821</td>\n",
       "      <td>-1182.883782</td>\n",
       "      <td>-2007.651356</td>\n",
       "      <td>-596.231848</td>\n",
       "      <td>-57.204525</td>\n",
       "      <td>-559.112107</td>\n",
       "      <td>-304.074337</td>\n",
       "      <td>...</td>\n",
       "      <td>-353.592354</td>\n",
       "      <td>-537.012513</td>\n",
       "      <td>-113.473135</td>\n",
       "      <td>-374.865082</td>\n",
       "      <td>-264.617373</td>\n",
       "      <td>-64.262586</td>\n",
       "      <td>-88.324999</td>\n",
       "      <td>-153.876574</td>\n",
       "      <td>-127.585862</td>\n",
       "      <td>-189.801574</td>\n",
       "    </tr>\n",
       "    <tr>\n",
       "      <th>64233</th>\n",
       "      <td>-121.732697</td>\n",
       "      <td>-511.391044</td>\n",
       "      <td>-463.710366</td>\n",
       "      <td>-3293.066066</td>\n",
       "      <td>-1300.874395</td>\n",
       "      <td>-1984.237975</td>\n",
       "      <td>-615.801907</td>\n",
       "      <td>-56.784007</td>\n",
       "      <td>-547.896097</td>\n",
       "      <td>-306.709618</td>\n",
       "      <td>...</td>\n",
       "      <td>-345.761043</td>\n",
       "      <td>-601.845422</td>\n",
       "      <td>-100.308383</td>\n",
       "      <td>-340.194963</td>\n",
       "      <td>-304.276720</td>\n",
       "      <td>-64.907809</td>\n",
       "      <td>-88.707155</td>\n",
       "      <td>-158.873159</td>\n",
       "      <td>-124.861512</td>\n",
       "      <td>-170.205561</td>\n",
       "    </tr>\n",
       "  </tbody>\n",
       "</table>\n",
       "<p>64234 rows × 751 columns</p>\n",
       "</div>"
      ],
      "text/plain": [
       "            33822       72905      109409        26965        38858  \\\n",
       "0        4.247730 -214.364208  -55.602183  -828.024643  -304.063078   \n",
       "1        1.312820 -217.441927  -89.060598  -778.178320  -279.962716   \n",
       "2       -3.467142 -238.896615 -124.110722 -1226.823528  -266.928499   \n",
       "3      -10.852873 -252.322276 -151.450945 -1362.908743  -265.562754   \n",
       "4      -18.360899 -286.283744 -183.003485 -2102.633319  -263.145817   \n",
       "...           ...         ...         ...          ...          ...   \n",
       "64229 -124.635868 -521.767328 -461.916309 -3132.704707  -911.333897   \n",
       "64230 -122.737778 -507.970557 -463.275212 -3182.477113  -963.951621   \n",
       "64231 -122.201850 -509.822035 -456.084287 -3203.394257 -1042.701736   \n",
       "64232 -122.464006 -507.969064 -463.385262 -3223.640821 -1182.883782   \n",
       "64233 -121.732697 -511.391044 -463.710366 -3293.066066 -1300.874395   \n",
       "\n",
       "             34411       50692      66428       62613       61994  ...  \\\n",
       "0      -603.129723 -322.642104 -13.947193 -248.747221  -49.851466  ...   \n",
       "1      -712.313409 -287.463902 -13.530516 -307.704991  -39.353261  ...   \n",
       "2      -602.562106 -284.577511 -13.278602 -393.497036  -28.850710  ...   \n",
       "3      -625.034939 -263.702388 -12.755023 -466.844495  -40.154237  ...   \n",
       "4      -579.307440 -253.154217 -12.600095 -540.690303  -30.407370  ...   \n",
       "...            ...         ...        ...         ...         ...  ...   \n",
       "64229 -1911.857958 -623.594506 -58.562807 -544.697799 -289.993393  ...   \n",
       "64230 -1913.224402 -626.391243 -56.514769 -544.330267 -299.304516  ...   \n",
       "64231 -1953.971370 -601.178884 -56.476511 -538.634601 -295.855784  ...   \n",
       "64232 -2007.651356 -596.231848 -57.204525 -559.112107 -304.074337  ...   \n",
       "64233 -1984.237975 -615.801907 -56.784007 -547.896097 -306.709618  ...   \n",
       "\n",
       "            75407      141937      109749      117207      130322     179306  \\\n",
       "0      -66.580834 -147.146712   -8.203871  -43.064300  -59.496024 -50.950006   \n",
       "1      -69.277565 -135.178834   -8.933408  -49.336221  -50.306605 -43.229296   \n",
       "2      -86.721305 -121.656175   -8.025398  -41.265164  -39.719137 -34.345048   \n",
       "3     -107.734253 -108.516284   -9.131776  -57.040812  -40.829017 -26.614133   \n",
       "4     -132.419344 -100.835776   -8.441248  -60.028275  -33.493258 -21.032568   \n",
       "...           ...         ...         ...         ...         ...        ...   \n",
       "64229 -480.639584 -367.015562 -153.350504 -513.873507 -188.114462 -62.389116   \n",
       "64230 -411.506248 -409.632966 -141.293612 -471.792450 -201.852853 -62.941007   \n",
       "64231 -394.669530 -465.673032 -129.124777 -425.322870 -228.359166 -63.410227   \n",
       "64232 -353.592354 -537.012513 -113.473135 -374.865082 -264.617373 -64.262586   \n",
       "64233 -345.761043 -601.845422 -100.308383 -340.194963 -304.276720 -64.907809   \n",
       "\n",
       "            1666        2564      231701      192263  \n",
       "0     -48.008949 -146.660779  -27.061961  -23.572152  \n",
       "1     -52.679343 -138.750231  -28.471641  -10.463437  \n",
       "2     -51.759342 -128.859771  -27.553201   -4.196998  \n",
       "3     -52.399073 -121.657986  -28.426799   -1.982406  \n",
       "4     -53.071499 -109.397946  -27.616711    2.142648  \n",
       "...          ...         ...         ...         ...  \n",
       "64229 -93.673562 -149.232601 -118.243465 -270.185320  \n",
       "64230 -90.712727 -158.982598 -123.050639 -243.482497  \n",
       "64231 -87.876395 -153.351513 -127.892795 -215.016291  \n",
       "64232 -88.324999 -153.876574 -127.585862 -189.801574  \n",
       "64233 -88.707155 -158.873159 -124.861512 -170.205561  \n",
       "\n",
       "[64234 rows x 751 columns]"
      ]
     },
     "execution_count": 60,
     "metadata": {},
     "output_type": "execute_result"
    }
   ],
   "source": []
  },
  {
   "cell_type": "markdown",
   "metadata": {},
   "source": [
    "                                       Testing"
   ]
  },
  {
   "cell_type": "code",
   "execution_count": null,
   "metadata": {},
   "outputs": [],
   "source": [
    "#Interpolate Output testing"
   ]
  },
  {
   "cell_type": "code",
   "execution_count": 71,
   "metadata": {},
   "outputs": [],
   "source": [
    "#t = pd.read_csv(\"fluxes_for_HIRES.csv\")\n",
    "wl_interpolated = np.genfromtxt(\"interpolated_wl.csv\")"
   ]
  },
  {
   "cell_type": "code",
   "execution_count": 79,
   "metadata": {},
   "outputs": [
    {
     "data": {
      "image/png": "[encoded data removed]",
      "text/plain": [
       "<Figure size 432x288 with 1 Axes>"
      ]
     },
     "metadata": {
      "needs_background": "light"
     },
     "output_type": "display_data"
    }
   ],
   "source": [
    "plt.plot(wl_interpolated,t[\"109409\"].to_numpy())\n",
    "plt.show()"
   ]
  },
  {
   "cell_type": "code",
   "execution_count": 25,
   "metadata": {},
   "outputs": [],
   "source": [
    "#Post RV \n",
    "filenames = name_filename_rv_dic[\"FILENAME\"] #Removed NAs \n",
    "temp_filenames = []\n",
    "for file_name in filenames: \n",
    "    if file_name is not pd.NA: \n",
    "        temp_filenames.append(file_name.replace('r',\"\"))\n",
    "filenames = temp_filenames"
   ]
  },
  {
   "cell_type": "code",
   "execution_count": 27,
   "metadata": {},
   "outputs": [
    {
     "data": {
      "text/plain": [
       "{'status': 'ok', 'msg': ''}"
      ]
     },
     "execution_count": 27,
     "metadata": {},
     "output_type": "execute_result"
    }
   ],
   "source": [
    "filenames[0]\n",
    "data.spectrum(filenames[0])"
   ]
  },
  {
   "cell_type": "code",
   "execution_count": 2,
   "metadata": {},
   "outputs": [],
   "source": [
    "#Testing for Spectra\n",
    "#-----------------\n",
    "#What I am going to be testing is, extrcting the data from "
   ]
  },
  {
   "cell_type": "code",
   "execution_count": 2,
   "metadata": {},
   "outputs": [],
   "source": [
    "wl_solution = fits.getdata('http://caltech-ipac.github.io/hiresprv/_static/keck_rwav.fits')"
   ]
  },
  {
   "cell_type": "code",
   "execution_count": 3,
   "metadata": {},
   "outputs": [],
   "source": [
    "where_they_at = \"output/r20040821.211.fits\"#Needs to Change after testing to where_they_at = download.localdir"
   ]
  },
  {
   "cell_type": "code",
   "execution_count": 4,
   "metadata": {},
   "outputs": [],
   "source": [
    "import numpy as np\n",
    "flux = fits.getdata(where_they_at)\n",
    "flux_array = np.append(flux[0],[flux[i] for i in range(1,16)])\n",
    "wl_solution_array = np.append(wl_solution[0],[wl_solution[i] for i in range(1,16)])"
   ]
  },
  {
   "cell_type": "code",
   "execution_count": 16,
   "metadata": {},
   "outputs": [
    {
     "data": {
      "image/png": "[encoded data removed]",
      "text/plain": [
       "<Figure size 432x288 with 1 Axes>"
      ]
     },
     "metadata": {
      "needs_background": "light"
     },
     "output_type": "display_data"
    }
   ],
   "source": [
    "pl.plot(wl_solution[2,:],flux[2,:],'g')\n",
    "pl.ylabel(\"Counts [ADU]\")\n",
    "pl.xlabel(\"Wavelength [$\\AA$]\")\n",
    "pl.show()"
   ]
  },
  {
   "cell_type": "code",
   "execution_count": 75,
   "metadata": {},
   "outputs": [],
   "source": [
    "#Continumm Normalization \n",
    "\n",
    "import matplotlib.pyplot as plt \n",
    "import numpy as np \n",
    "from astropy.modeling import models\n",
    "from astropy import units as u\n",
    "from specutils.spectra import Spectrum1D, SpectralRegion\n",
    "from specutils.fitting import fit_generic_continuum\n"
   ]
  },
  {
   "cell_type": "code",
   "execution_count": 15,
   "metadata": {},
   "outputs": [],
   "source": [
    "wl_solution = fits.getdata('http://caltech-ipac.github.io/hiresprv/_static/keck_rwav.fits')\n",
    "wl_solution = np.append(wl_solution[0],[wl_solution[i] for i in range(1,16)])"
   ]
  },
  {
   "cell_type": "code",
   "execution_count": 19,
   "metadata": {},
   "outputs": [],
   "source": [
    "deblazedFlux = fits.getdata(\"spectraOutput/r20040821.174.fits\")\n",
    "deblazedFlux = np.append(deblazedFlux[0],[deblazedFlux[i] for i in range(1,16)])/9.0e3"
   ]
  },
  {
   "cell_type": "code",
   "execution_count": 20,
   "metadata": {},
   "outputs": [
    {
     "name": "stderr",
     "output_type": "stream",
     "text": [
      "WARNING: Model is linear in parameters; consider using linear fitting methods. [astropy.modeling.fitting]\n",
      "WARNING:astropy:Model is linear in parameters; consider using linear fitting methods.\n"
     ]
    },
    {
     "data": {
      "text/plain": [
       "<matplotlib.legend.Legend at 0x2055ce0a850>"
      ]
     },
     "execution_count": 20,
     "metadata": {},
     "output_type": "execute_result"
    },
    {
     "data": {
      "image/png": "[encoded data removed]",
      "text/plain": [
       "<Figure size 432x288 with 1 Axes>"
      ]
     },
     "metadata": {
      "needs_background": "light"
     },
     "output_type": "display_data"
    }
   ],
   "source": [
    "\n",
    "x = wl_solution\n",
    "y = deblazedFlux\n",
    "plt.plot(x, y, label = 'My Data', c='C0')\n",
    "\n",
    "spectrum = Spectrum1D(flux=y*u.Jy, spectral_axis=x*u.um)\n",
    "g1_fit = fit_generic_continuum(spectrum)\n",
    "y_fit = g1_fit(x*u.um)\n",
    "\n",
    "plt.plot(x, y_fit, label = ' Specutils Continuum Fit', c='C1')\n",
    "plt.legend()"
   ]
  },
  {
   "cell_type": "code",
   "execution_count": 22,
   "metadata": {},
   "outputs": [
    {
     "data": {
      "image/png": "[encoded data removed]",
      "text/plain": [
       "<Figure size 432x288 with 1 Axes>"
      ]
     },
     "metadata": {
      "needs_background": "light"
     },
     "output_type": "display_data"
    }
   ],
   "source": [
    "plt.plot(x,y - y_fit/u.Jy,label = 'contrinum subtracted')\n",
    "plt.legend()\n",
    "plt.show()"
   ]
  },
  {
   "cell_type": "code",
   "execution_count": 23,
   "metadata": {},
   "outputs": [],
   "source": [
    "normalizedFlux = y - y_fit/u.Jy"
   ]
  },
  {
   "cell_type": "code",
   "execution_count": 27,
   "metadata": {},
   "outputs": [
    {
     "data": {
      "text/latex": [
       "$[-3.2385181,~-0.74924486,~-0.80029906,~\\dots,~-5.5813051,~-6.0609645,~-8.1777736] \\; \\mathrm{}$"
      ],
      "text/plain": [
       "<Quantity [-3.23851812, -0.74924486, -0.80029906, ..., -5.58130506,\n",
       "           -6.0609645 , -8.17777355]>"
      ]
     },
     "execution_count": 27,
     "metadata": {},
     "output_type": "execute_result"
    }
   ],
   "source": [
    "y - y_fit/u.Jy"
   ]
  },
  {
   "cell_type": "code",
   "execution_count": 31,
   "metadata": {},
   "outputs": [
    {
     "data": {
      "text/plain": [
       "array([3.24576256, 3.24585264, 3.24594273, ..., 8.28887275, 8.28890649,\n",
       "       8.28894021])"
      ]
     },
     "execution_count": 31,
     "metadata": {},
     "output_type": "execute_result"
    }
   ],
   "source": [
    "np.array(list(map(np.float,y_fit/u.Jy))) "
   ]
  },
  {
   "cell_type": "code",
   "execution_count": 35,
   "metadata": {},
   "outputs": [
    {
     "data": {
      "text/latex": [
       "$3.2457626 \\; \\mathrm{}$"
      ],
      "text/plain": [
       "<Quantity 3.24576256>"
      ]
     },
     "execution_count": 35,
     "metadata": {},
     "output_type": "execute_result"
    }
   ],
   "source": [
    "(y_fit/u.Jy)[0]"
   ]
  },
  {
   "cell_type": "code",
   "execution_count": null,
   "metadata": {},
   "outputs": [],
   "source": [
    "#Cross-corrlate "
   ]
  },
  {
   "cell_type": "code",
   "execution_count": null,
   "metadata": {},
   "outputs": [],
   "source": [
    "#-================================="
   ]
  },
  {
   "cell_type": "code",
   "execution_count": 3,
   "metadata": {},
   "outputs": [],
   "source": [
    "h = fits.open(\"output/r20071124.121.fits\")"
   ]
  },
  {
   "cell_type": "code",
   "execution_count": 7,
   "metadata": {},
   "outputs": [],
   "source": [
    "h = fits.open(\"output/r20071124.121.fits\")\n",
    "hdu = h[0]\n",
    "hdu.header"
   ]
  },
  {
   "cell_type": "code",
   "execution_count": 2,
   "metadata": {},
   "outputs": [],
   "source": [
    "import math\n",
    "math.log10()"
   ]
  },
  {
   "cell_type": "code",
   "execution_count": 2,
   "metadata": {},
   "outputs": [],
   "source": [
    "#Interpolate"
   ]
  },
  {
   "cell_type": "code",
   "execution_count": 8,
   "metadata": {},
   "outputs": [],
   "source": [
    "d = {\"Hello\":(0,1),\"There\":(2,3)}"
   ]
  },
  {
   "cell_type": "code",
   "execution_count": 22,
   "metadata": {},
   "outputs": [],
   "source": [
    "fluxnorm = [np.float64(i) for i in normalizedFlux]"
   ]
  },
  {
   "cell_type": "code",
   "execution_count": 9,
   "metadata": {},
   "outputs": [
    {
     "ename": "NameError",
     "evalue": "name 'spectraDic' is not defined",
     "output_type": "error",
     "traceback": [
      "\u001b[1;31m---------------------------------------------------------------------------\u001b[0m",
      "\u001b[1;31mNameError\u001b[0m                                 Traceback (most recent call last)",
      "\u001b[1;32m<ipython-input-9-dcaf4ebe2c8c>\u001b[0m in \u001b[0;36m<module>\u001b[1;34m\u001b[0m\n\u001b[0;32m      1\u001b[0m \u001b[0mwlDic\u001b[0m \u001b[1;33m=\u001b[0m \u001b[1;33m{\u001b[0m\u001b[1;33m}\u001b[0m\u001b[1;33m\u001b[0m\u001b[1;33m\u001b[0m\u001b[0m\n\u001b[0;32m      2\u001b[0m \u001b[0mfluxDic\u001b[0m \u001b[1;33m=\u001b[0m \u001b[1;33m{\u001b[0m\u001b[1;33m}\u001b[0m\u001b[1;33m\u001b[0m\u001b[1;33m\u001b[0m\u001b[0m\n\u001b[1;32m----> 3\u001b[1;33m \u001b[1;32mfor\u001b[0m \u001b[0mHIRES_ID\u001b[0m \u001b[1;32min\u001b[0m \u001b[0mspectraDic\u001b[0m\u001b[1;33m:\u001b[0m\u001b[1;33m\u001b[0m\u001b[1;33m\u001b[0m\u001b[0m\n\u001b[0m\u001b[0;32m      4\u001b[0m     \u001b[0mwl\u001b[0m \u001b[1;33m=\u001b[0m \u001b[0mspectraDic\u001b[0m\u001b[1;33m[\u001b[0m\u001b[0mHIRES_ID\u001b[0m\u001b[1;33m]\u001b[0m\u001b[1;33m[\u001b[0m\u001b[1;36m0\u001b[0m\u001b[1;33m]\u001b[0m\u001b[1;33m\u001b[0m\u001b[1;33m\u001b[0m\u001b[0m\n\u001b[0;32m      5\u001b[0m     \u001b[0mflux\u001b[0m \u001b[1;33m=\u001b[0m \u001b[0mspectraDic\u001b[0m\u001b[1;33m[\u001b[0m\u001b[0mHIRES_ID\u001b[0m\u001b[1;33m]\u001b[0m\u001b[1;33m[\u001b[0m\u001b[1;36m1\u001b[0m\u001b[1;33m]\u001b[0m\u001b[1;33m\u001b[0m\u001b[1;33m\u001b[0m\u001b[0m\n",
      "\u001b[1;31mNameError\u001b[0m: name 'spectraDic' is not defined"
     ]
    }
   ],
   "source": [
    "wlDic = {}\n",
    "fluxDic = {}\n",
    "for HIRES_ID in spectraDic:\n",
    "    wl = spectraDic[HIRES_ID][0]\n",
    "    flux = spectraDic[HIRES_ID][1]\n",
    "    intfunc = interpolate.interp1d(wl,flux)\n",
    "    wlDic[HIRES_ID] = wl\n",
    "x    fluxDic[HIRES_ID] = intfunc(wl)\n",
    "\n",
    "return pd.DataFrame(wlDic), pd.DataFrame(fluxDic)\n",
    "    \n"
   ]
  },
  {
   "cell_type": "code",
   "execution_count": 16,
   "metadata": {},
   "outputs": [
    {
     "data": {
      "image/png": "[encoded data removed]",
      "text/plain": [
       "<Figure size 432x288 with 1 Axes>"
      ]
     },
     "metadata": {
      "needs_background": "light"
     },
     "output_type": "display_data"
    }
   ],
   "source": [
    "# get the interpolating function (you need to choose which type)\n",
    "intfunc = interpolate.interp1d(x,fluxnorm,assume_sorted = True)\n",
    "# plot interpolated data at high sampling\n",
    "start = 35236\n",
    "stop = 35336\n",
    "\n",
    "plt.plot(x[start:stop],fluxnorm[start:stop],label = \"Normalized Flux\")\n",
    "plt.plot(x[start:stop],intfunc(x)[start:stop],label = \"Interpolt\")\n",
    "plt.legend()\n",
    "plt.show()"
   ]
  },
  {
   "cell_type": "code",
   "execution_count": 15,
   "metadata": {},
   "outputs": [],
   "source": [
    "interpolate_over = [wl for wl in x if wl >= 5000 and wl<=6000]"
   ]
  },
  {
   "cell_type": "code",
   "execution_count": 23,
   "metadata": {},
   "outputs": [],
   "source": [
    "\n",
    "test_Interpolation = np.interp(interpolate_over,x,fluxnorm)"
   ]
  },
  {
   "cell_type": "code",
   "execution_count": 31,
   "metadata": {},
   "outputs": [
    {
     "data": {
      "image/png": "[encoded data removed]",
      "text/plain": [
       "<Figure size 432x288 with 1 Axes>"
      ]
     },
     "metadata": {
      "needs_background": "light"
     },
     "output_type": "display_data"
    }
   ],
   "source": [
    "start = 0\n",
    "stop  = 6500\n",
    "plt.plot(interpolate_over[start:stop],test_Interpolation[start:stop],label = \"interpolated\")\n",
    "plt.plot(x[start:stop],fluxnorm[start:stop],label = \"Normalized Flux\")\n",
    "plt.legend()\n",
    "plt.show()"
   ]
  },
  {
   "cell_type": "code",
   "execution_count": 3,
   "metadata": {},
   "outputs": [],
   "source": [
    "#Counts to Erg/s \n",
    "#If you know the total number of counts (N) collected and the total time (t, in seconds) over which \n",
    "#the photons were collected, the rate at which the photons were collected is N/t (with units of photons/second). \n",
    "#You also have the wavelength associated with each point in the spectrum, so you can convert that to \n",
    "#energy (ergs) using E = hc/lambda, where lambda is the wavelength of light.\n",
    "wl_solution = fits.getdata('http://caltech-ipac.github.io/hiresprv/_static/keck_rwav.fits')\n",
    "wl_solution = np.append(wl_solution[0],[wl_solution[i] for i in range(1,16)])\n",
    "deblazedFlux = fits.getdata(\"output/r20071124.121.fits\")\n",
    "deblazedFlux = np.append(deblazedFlux[0],[deblazedFlux[i] for i in range(1,16)])"
   ]
  },
  {
   "cell_type": "code",
   "execution_count": 8,
   "metadata": {},
   "outputs": [],
   "source": [
    "hdu = fits.open(\"output/r20071124.121.fits\")\n",
    "timeElapsed = hdu[0].header[\"ELAPTIME\"]"
   ]
  },
  {
   "cell_type": "code",
   "execution_count": 9,
   "metadata": {},
   "outputs": [],
   "source": [
    "photonsPersec = deblazedFlux/timeElapsed"
   ]
  },
  {
   "cell_type": "code",
   "execution_count": 65,
   "metadata": {},
   "outputs": [],
   "source": [
    "ergsPerSecFlux = []\n",
    "for i in range(len(photonsPersec)):\n",
    "    photonEnergy = 1.2398 / (wl_solution[i]*0.0001) #h*c = 1.2398 eV-µm\n",
    "    ergsPerSec = photonEnergy*photonsPersec[i]\n",
    "    ergsPerSecFlux.append(ergsPerSec)\n",
    "ergsPerSecFlux = np.array(ergsPerSecFlux)"
   ]
  },
  {
   "cell_type": "code",
   "execution_count": 66,
   "metadata": {},
   "outputs": [
    {
     "data": {
      "image/png": "[encoded data removed]",
      "text/plain": [
       "<Figure size 432x288 with 1 Axes>"
      ]
     },
     "metadata": {
      "needs_background": "light"
     },
     "output_type": "display_data"
    }
   ],
   "source": [
    "start = 50\n",
    "stop  = len(wl_solution)-1\n",
    "plt.plot(wl_solution[start:stop],ergsPerSecFlux[start:stop])\n",
    "plt.show()"
   ]
  }
 ],
 "metadata": {
  "kernelspec": {
   "display_name": "Python 3",
   "language": "python",
   "name": "python3"
  },
  "language_info": {
   "codemirror_mode": {
    "name": "ipython",
    "version": 3
   },
   "file_extension": ".py",
   "mimetype": "text/x-python",
   "name": "python",
   "nbconvert_exporter": "python",
   "pygments_lexer": "ipython3",
   "version": "3.8.5"
  }
 },
 "nbformat": 4,
 "nbformat_minor": 4
}
