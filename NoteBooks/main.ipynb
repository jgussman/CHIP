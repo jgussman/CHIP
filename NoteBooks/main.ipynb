{
 "cells": [
  {
   "cell_type": "markdown",
   "metadata": {},
   "source": [
    "                                       References\n",
    "[HIRES PRV Documentation](https://caltech-ipac.github.io/hiresprv/hiresprv.html)"
   ]
  },
  {
   "cell_type": "markdown",
   "metadata": {},
   "source": [
    "                                     Imports & Setup\n",
    "                                        "
   ]
  },
  {
   "cell_type": "code",
   "execution_count": 4,
   "metadata": {},
   "outputs": [],
   "source": [
    "from astropy.io import fits\n",
    "from hiresprv.auth import login\n",
    "from hiresprv.idldriver import Idldriver\n",
    "from hiresprv.database import Database\n",
    "from hiresprv.download import Download\n",
    "from PyAstronomy import pyasl\n",
    "\n",
    "import numpy as np\n",
    "import pandas as pd \n"
   ]
  },
  {
   "cell_type": "code",
   "execution_count": 2,
   "metadata": {
    "scrolled": true
   },
   "outputs": [
    {
     "name": "stdout",
     "output_type": "stream",
     "text": [
      "KOA userid: jgussman\n",
      "KOA Password: ········\n",
      "Successful login as jgussman\n"
     ]
    }
   ],
   "source": [
    "login('prv.cookies')                 # For logging into the NExSci servers \n",
    "\n",
    "idl = Idldriver('prv.cookies')       # For creating RV scripts \n",
    "\n",
    "state = Database('prv.cookies')      # For retrieving data from HIRES \n",
    "\n",
    "data = Download('prv.cookies', './output') # For downloading spectra"
   ]
  },
  {
   "cell_type": "markdown",
   "metadata": {},
   "source": [
    "                                         Data "
   ]
  },
  {
   "cell_type": "code",
   "execution_count": 3,
   "metadata": {},
   "outputs": [],
   "source": [
    "# starnames_crossmatch_SPOCS_NEXSCI.txt was put together by Malena Rice \n",
    "# This matches SPOC stars with their HIRES ID \n",
    "crossMatchedNames = pd.read_csv(\"../spocData/starnames_crossmatch_SPOCS_NEXSCI.txt\",sep=\" \")"
   ]
  },
  {
   "cell_type": "markdown",
   "metadata": {},
   "source": [
    "                                        RV Data"
   ]
  },
  {
   "cell_type": "code",
   "execution_count": 1,
   "metadata": {},
   "outputs": [],
   "source": [
    "#Getting the RV data for each star\n",
    "#1) Find all the RV observations \n",
    "def Find_and_download_all_rv_obs(star_ID_List,idldriver,database):\n",
    "    '''    \n",
    "    This function downloads the rotational velocity metadata and returns a dictionary that \n",
    "    makes it easy to identify what stars' max observed rotational velocities as well as \n",
    "    the filenames for which they came from.\n",
    "    \n",
    "    INPUT: star_ID_List is a list that contains strings of the HIRES ID for stars \n",
    "           idldriver needs be a hiresprv.idldriver.Idldriver instance \n",
    "           database needs to be hiresprv.database.Database instance \n",
    "    OUTPUT: {keys = HIRES filename: value = RV Data}\n",
    "    \n",
    "    Description: Downloads all the RV metadata for each indivdual star in \n",
    "    star_ID_List into csv files\n",
    "     \n",
    "    '''\n",
    "    rv_script_name_list = []\n",
    "    problem_child_name = []\n",
    "    problem_child_rv = []\n",
    "    problem_child_filename = []\n",
    "    master_script = \"\"\n",
    "    for HIRESname in star_ID_List:\n",
    "        try:\n",
    "                #Create script for reducing RV observations\n",
    "                temp_rv_script = idldriver.create_rvscript(HIRESname,database) \n",
    "\n",
    "                length_of_name = len(HIRESname)\n",
    "                first_date = temp_rv_script[3+length_of_name:13+length_of_name].split(\".\")[0]\n",
    "\n",
    "                HIRESrvname = temp_rv_script[3:length_of_name+3].split(\" \")[0]\n",
    "\n",
    "                temp_rv_script =  \"template {0} {1}\\n\".format(HIRESrvname,first_date) + temp_rv_script\n",
    "                temp_rv_script += \"\\nrvcurve {0}\\n\".format(HIRESrvname)\n",
    "                rv_script_name_list.append(HIRESrvname)\n",
    "                master_script += temp_rv_script\n",
    "\n",
    "        except AttributeError: #This is due to the idldriver.create_rvscript \n",
    "            problem_child_name = [HIRESname] + problem_child_name\n",
    "            problem_child_rv += [pd.NA]\n",
    "            problem_child_filename += [pd.NA]\n",
    "        \n",
    "    #Run script \n",
    "    idldriver.run_script(master_script) \n",
    "    \n",
    "    #Downloading the RV data as well as getting the largest RV value for each star\n",
    "    largest_rv = {\"HIRESName\": problem_child_name,\"FILENAME\":problem_child_filename, \"RV\":problem_child_rv}  \n",
    "    localdir = data.localdir\n",
    "    for name in rv_script_name_list:\n",
    "        #Make sure the data is in workspace\n",
    "        largest_rv[\"HIRESName\"].append(name)\n",
    "        try:\n",
    "            rtn = data.rvcurve(name)\n",
    "            nameLoc = '{0}/vst{1}.csv'.format(localdir,name)\n",
    "            temp_df = pd.read_csv(nameLoc)\n",
    "            if not temp_df.empty:\n",
    "                rv_temp = abs(temp_df['RV'])\n",
    "                row = temp_df[temp_df['RV'] == rv_temp.min()]\n",
    "                if row.empty: #The absolute max rv is negative \n",
    "                    row = temp_df[temp_df['RV'] == -rv_temp.min()]\n",
    "                largest_rv[\"RV\"] += [row[\"RV\"].to_numpy()[0]]\n",
    "                largest_rv[\"FILENAME\"] += [row[\"FILENAME\"].to_numpy()[0]]\n",
    "            else:\n",
    "                largest_rv[\"RV\"] += [pd.NA]\n",
    "                largest_rv[\"FILENAME\"] += [pd.NA]\n",
    "        except OSError: #This error occurs because for some reason the star's rvcurve wasn't created\n",
    "                largest_rv[\"RV\"] += [pd.NA]\n",
    "                largest_rv[\"FILENAME\"] += [pd.NA]\n",
    "    return largest_rv"
   ]
  },
  {
   "cell_type": "markdown",
   "metadata": {},
   "source": [
    "                                       Spectra"
   ]
  },
  {
   "cell_type": "code",
   "execution_count": null,
   "metadata": {},
   "outputs": [],
   "source": [
    "#Retreive all the Spectra \n",
    "def DownloadSpectra(filename_rv_df,download):\n",
    "    '''\n",
    "    ***NOT COMPLETE***\n",
    "    \n",
    "    Input: filename_rv dataframe with a column called \"FILENAME\" that contains \n",
    "   \n",
    "    Output: \n",
    "    \n",
    "    Description: THIS FUNCTION ASSUMES YOU DID .dropna() ON THE DATAFRAME\n",
    "    '''\n",
    "    \n",
    "    spectraDic = {} \n",
    "    download_Location = download.localdir #This is the second parameter of hiresprv.download.Download\n",
    "    for filename in filename_rv_df[\"FILENAME\"]:\n",
    "        #I tried to use the , seperation and new line seperation \n",
    "        #for the different file names but it doesn't seem to work.\n",
    "        #Thus, a for-loop was used!\n",
    "        download.spectrum(filename.replace(\"r\",\"\"))  #Download spectra \n",
    "        \n",
    "        temp_deblazedFlux = fits.getdata(\"{0}/{1}.fits\".format(download_Location,filename))\n",
    "        spectraDic[filename] = np.append(temp_deblazedFlux[0],[temp_deblazedFlux[i] for i in range(1,16)])     \n",
    "    \n",
    "    return spectraDic    "
   ]
  },
  {
   "cell_type": "code",
   "execution_count": 85,
   "metadata": {},
   "outputs": [],
   "source": [
    "def ContinuumNormalize(spectraDic):\n",
    "    '''\n",
    "    ***NOT COMPLETE***\n",
    "    \n",
    "    Input: \n",
    "   \n",
    "    Output: \n",
    "    \n",
    "    Description: THIS FUNCTION ASSUMES YOU DID .dropna() ON THE DATAFRAME\n",
    "    '''\n",
    "    #This is the same for all HIRES data \n",
    "    wl_solution = fits.getdata('http://caltech-ipac.github.io/hiresprv/_static/keck_rwav.fits')\n",
    "    wl_solution = np.append(wl_solution[0],[wl_solution[i] for i in range(1,16)])\n",
    "    \n",
    "    \n",
    "    #Continumm Normalize\n",
    "    for key in spectra.keys():\n",
    "        #*****************NEED TO CONVERT FROM COUNTS TO erg/s***************\n",
    "        #********************GOTTA DO THIS CONVERSION****************\n",
    "\n",
    "        \n",
    "        deblazedFlux = spectra[key]\n",
    "        spectrum = Spectrum1D(flux=deblazedFlux*u.Jy, spectral_axis=wl_solution*u.um)\n",
    "        g1_fit = fit_generic_continuum(spectrum)\n",
    "        flux_fit = g1_fit(wl_solution*u.um)\n",
    "        spectra[key] = np.float64(deblazedFlux - flux_fit/u.Jy) \n",
    "        \n",
    "    return spectraDic\n"
   ]
  },
  {
   "cell_type": "code",
   "execution_count": 84,
   "metadata": {},
   "outputs": [],
   "source": [
    "def CrossCorrelate(filename_rv_df,normalized_Spectra):\n",
    "    '''\n",
    "    ***NOT COMPLETE***\n",
    "    \n",
    "    Input: \n",
    "   \n",
    "    Output: \n",
    "    \n",
    "    Description: THIS FUNCTION ASSUMES YOU DID .dropna() ON THE DATAFRAME\n",
    "    '''\n",
    "    wvnum, wvlen, crf, tel, c, n = np.genfromtxt(\"../Atlases/solarAtlas.txt\",skip_header=1,unpack=True)\n",
    "    wvnum, wvlen, crf, tel, c, n = wvnum[::-1], wvlen[::-1], crf[::-1], tel[::-1], c[::-1], n[::-1] \n",
    "    \n",
    "    wl_solution = fits.getdata('http://caltech-ipac.github.io/hiresprv/_static/keck_rwav.fits')\n",
    "    wl_solution = np.append(wl_solution[0],[wl_solution[i] for i in range(1,16)])\n",
    "    \n",
    "    crossCorrelatedspectra = {} #Key: FILENAME Values: (correlated wavelength, normalized flux)\n",
    "    for i in range(filename_rv_df.shape[0]):\n",
    "        row = filename_rv_df.iloc[i]\n",
    "        filename = row[1]\n",
    "        maxRV = row[2]\n",
    "        \n",
    "        normalizedFlux = normalized_Spectra[filename]\n",
    "        \n",
    "        rv, cc = pyasl.crosscorrRV(wl_solution, normalizedFlux, wvlen,c, -1*maxRV, maxRV, maxRV/100., skipedge=25)\n",
    "        maxind = np.argmax(cc)\n",
    "        argmaxRV = rv[maxind]  #UNITS: km/s \n",
    "        \n",
    "        # z = v_0/c    \n",
    "        z = (argmaxRV/299_792.458) #UNITS: None \n",
    "        computeShiftedWavelength = lambda wl: wl + wl*z #UNITS: Angstroms \n",
    "        shifted_wl = np.array(list(map(computeShiftedWavelength,wl_solution[i])))\n",
    "        \n",
    "        #Making the key the HIRES ID so I easily convert it back to the Spoc ID later\n",
    "        crossCorrelatedspectra[row[0]] = (shifted_wl,normalizedFlux) \n",
    "    \n",
    "    return crossCorrelatedspectra"
   ]
  },
  {
   "cell_type": "code",
   "execution_count": null,
   "metadata": {},
   "outputs": [],
   "source": [
    "def Interpolate(spectraDic):\n",
    "    '''\n",
    "    ***NOT COMPLETE***\n",
    "    \n",
    "    Input: \n",
    "   \n",
    "    Output: \n",
    "    \n",
    "    Description: THIS FUNCTION ASSUMES YOU DID .dropna() ON THE DATAFRAME\n",
    "    '''\n",
    "    \n",
    "    #Interpolate the spectra with each other to get the same wavelength scale for all of them.\n",
    "    firstKey = next(iter(spectraDic))\n",
    "    first_spectra = spectraDic[firstKey][0]\n",
    "    wl_length = len(first_spectra)\n",
    "    \n",
    "    \n",
    "    maxMinVal = float('-inf')\n",
    "    minMaxVal = float('inf')\n",
    "    #Finds the max minimum wavelength val & finds the min maximum wavelenght val \n",
    "    for spectra_flux_tuple in spectraDic.values(): \n",
    "        #Assumption: wavelength is sorted from the 0th index being min,\n",
    "        #            the len(wavelength array)-1 is the max wavelength val,\n",
    "        #            all the wavelength arrays are the same length.\n",
    "        temp_spectra = spectra_flux_tuple[0]\n",
    "        temp_min_wl = temp_spectra[0]\n",
    "        temp_max_wl = temp_spectra[wl_length-1]\n",
    "        \n",
    "        if maxMinVal < temp_min_wl:\n",
    "            maxMinVal = temp_min_wl\n",
    "        if minMaxVal > temp_max_wl:\n",
    "            minMaxVal = temp_max_wl\n",
    "    \n",
    "    \n",
    "    interpolate_over = [wl for wl in first_spectra if wl >= maxMinVal and wl<=minMaxVal]\n",
    "    \n",
    "    fluxDic = {}\n",
    "    for HIRES_ID in spectraDic:\n",
    "        wl = spectraDic[HIRES_ID][0]\n",
    "        flux = spectraDic[HIRES_ID][1]\n",
    "        interpolated_flux = np.interp(interpolate_over,x,fluxnorm)\n",
    "        fluxDic[HIRES_ID] = interpolated_flux\n",
    "    \n",
    "    #Saving \n",
    "    np.savetxt(\"interpolated_wl.csv\",interpolate_over,delimiter=\",\")\n",
    "    fluxDF = pd.DataFrame(fluxDic)\n",
    "    fluxDF.to_csv(\"fluxes_for_HIRES.csv\",index_label=False,index=False)\n",
    "    return fluxDF\n",
    "    "
   ]
  },
  {
   "cell_type": "markdown",
   "metadata": {},
   "source": [
    "                                       Running"
   ]
  },
  {
   "cell_type": "code",
   "execution_count": 5,
   "metadata": {},
   "outputs": [
    {
     "name": "stdout",
     "output_type": "stream",
     "text": [
      "status= ok\n",
      "msg= Script running in background. Consult monitor for status.\n"
     ]
    }
   ],
   "source": [
    "#RV\n",
    "name_filename_rv_dic = Find_and_download_all_rv_obs(crossMatchedNames[\"HIRES\"].to_numpy(),idl,state)\n",
    "name_filename_rv_df = pd.DataFrame(name_filename_rv_dic)\n",
    "name_filename_rv_df.to_csv(\"HIRES_Filename_Maxrv.csv\",index_label=False,index=False)"
   ]
  },
  {
   "cell_type": "code",
   "execution_count": 2,
   "metadata": {},
   "outputs": [
    {
     "data": {
      "text/html": [
       "<div>\n",
       "<style scoped>\n",
       "    .dataframe tbody tr th:only-of-type {\n",
       "        vertical-align: middle;\n",
       "    }\n",
       "\n",
       "    .dataframe tbody tr th {\n",
       "        vertical-align: top;\n",
       "    }\n",
       "\n",
       "    .dataframe thead th {\n",
       "        text-align: right;\n",
       "    }\n",
       "</style>\n",
       "<table border=\"1\" class=\"dataframe\">\n",
       "  <thead>\n",
       "    <tr style=\"text-align: right;\">\n",
       "      <th></th>\n",
       "      <th>HIRESName</th>\n",
       "      <th>FILENAME</th>\n",
       "      <th>RV</th>\n",
       "    </tr>\n",
       "  </thead>\n",
       "  <tbody>\n",
       "    <tr>\n",
       "      <th>167</th>\n",
       "      <td>33822</td>\n",
       "      <td>r20071124.121</td>\n",
       "      <td>-16286.794922</td>\n",
       "    </tr>\n",
       "    <tr>\n",
       "      <th>172</th>\n",
       "      <td>72905</td>\n",
       "      <td>r20131019.184</td>\n",
       "      <td>-10597.124723</td>\n",
       "    </tr>\n",
       "    <tr>\n",
       "      <th>173</th>\n",
       "      <td>109409</td>\n",
       "      <td>r20060416.170</td>\n",
       "      <td>269.224258</td>\n",
       "    </tr>\n",
       "    <tr>\n",
       "      <th>184</th>\n",
       "      <td>26965</td>\n",
       "      <td>r20101212.153</td>\n",
       "      <td>13.500941</td>\n",
       "    </tr>\n",
       "    <tr>\n",
       "      <th>185</th>\n",
       "      <td>38858</td>\n",
       "      <td>r20071219.141</td>\n",
       "      <td>-15.180925</td>\n",
       "    </tr>\n",
       "    <tr>\n",
       "      <th>...</th>\n",
       "      <td>...</td>\n",
       "      <td>...</td>\n",
       "      <td>...</td>\n",
       "    </tr>\n",
       "    <tr>\n",
       "      <th>1187</th>\n",
       "      <td>179306</td>\n",
       "      <td>r20100719.57</td>\n",
       "      <td>-16.683694</td>\n",
       "    </tr>\n",
       "    <tr>\n",
       "      <th>1189</th>\n",
       "      <td>1666</td>\n",
       "      <td>r20100719.83</td>\n",
       "      <td>-254.358750</td>\n",
       "    </tr>\n",
       "    <tr>\n",
       "      <th>1190</th>\n",
       "      <td>2564</td>\n",
       "      <td>r20100723.56</td>\n",
       "      <td>42.717925</td>\n",
       "    </tr>\n",
       "    <tr>\n",
       "      <th>1191</th>\n",
       "      <td>231701</td>\n",
       "      <td>r20050821.171</td>\n",
       "      <td>50.188435</td>\n",
       "    </tr>\n",
       "    <tr>\n",
       "      <th>1192</th>\n",
       "      <td>192263</td>\n",
       "      <td>r20150727.78</td>\n",
       "      <td>-59.785153</td>\n",
       "    </tr>\n",
       "  </tbody>\n",
       "</table>\n",
       "<p>751 rows × 3 columns</p>\n",
       "</div>"
      ],
      "text/plain": [
       "     HIRESName       FILENAME            RV\n",
       "167      33822  r20071124.121 -16286.794922\n",
       "172      72905  r20131019.184 -10597.124723\n",
       "173     109409  r20060416.170    269.224258\n",
       "184      26965  r20101212.153     13.500941\n",
       "185      38858  r20071219.141    -15.180925\n",
       "...        ...            ...           ...\n",
       "1187    179306   r20100719.57    -16.683694\n",
       "1189      1666   r20100719.83   -254.358750\n",
       "1190      2564   r20100723.56     42.717925\n",
       "1191    231701  r20050821.171     50.188435\n",
       "1192    192263   r20150727.78    -59.785153\n",
       "\n",
       "[751 rows x 3 columns]"
      ]
     },
     "execution_count": 2,
     "metadata": {},
     "output_type": "execute_result"
    }
   ],
   "source": [
    "#Spectra \n",
    "#I'm testing different function at different times. That is why I am not using \n",
    "#name_filename_rv_df \n",
    "name_filename_rv_df = pd.read_csv(\"HIRES_Filename_Maxrv.csv\").dropna() "
   ]
  },
  {
   "cell_type": "markdown",
   "metadata": {},
   "source": [
    "                                       Testing"
   ]
  },
  {
   "cell_type": "code",
   "execution_count": 25,
   "metadata": {},
   "outputs": [],
   "source": [
    "#Post RV \n",
    "filenames = name_filename_rv_dic[\"FILENAME\"] #Removed NAs \n",
    "temp_filenames = []\n",
    "for file_name in filenames: \n",
    "    if file_name is not pd.NA: \n",
    "        temp_filenames.append(file_name.replace('r',\"\"))\n",
    "filenames = temp_filenames"
   ]
  },
  {
   "cell_type": "code",
   "execution_count": 27,
   "metadata": {},
   "outputs": [
    {
     "data": {
      "text/plain": [
       "{'status': 'ok', 'msg': ''}"
      ]
     },
     "execution_count": 27,
     "metadata": {},
     "output_type": "execute_result"
    }
   ],
   "source": [
    "filenames[0]\n",
    "data.spectrum(filenames[0])"
   ]
  },
  {
   "cell_type": "code",
   "execution_count": 2,
   "metadata": {},
   "outputs": [],
   "source": [
    "#Testing for Spectra\n",
    "#-----------------\n",
    "#What I am going to be testing is, extrcting the data from "
   ]
  },
  {
   "cell_type": "code",
   "execution_count": 2,
   "metadata": {},
   "outputs": [],
   "source": [
    "wl_solution = fits.getdata('http://caltech-ipac.github.io/hiresprv/_static/keck_rwav.fits')"
   ]
  },
  {
   "cell_type": "code",
   "execution_count": 3,
   "metadata": {},
   "outputs": [],
   "source": [
    "where_they_at = \"output/r20040821.211.fits\"#Needs to Change after testing to where_they_at = download.localdir"
   ]
  },
  {
   "cell_type": "code",
   "execution_count": 4,
   "metadata": {},
   "outputs": [],
   "source": [
    "import numpy as np\n",
    "flux = fits.getdata(where_they_at)\n",
    "flux_array = np.append(flux[0],[flux[i] for i in range(1,16)])\n",
    "wl_solution_array = np.append(wl_solution[0],[wl_solution[i] for i in range(1,16)])"
   ]
  },
  {
   "cell_type": "code",
   "execution_count": 16,
   "metadata": {},
   "outputs": [
    {
     "data": {
      "image/png": "[encoded data removed]",
      "text/plain": [
       "<Figure size 432x288 with 1 Axes>"
      ]
     },
     "metadata": {
      "needs_background": "light"
     },
     "output_type": "display_data"
    }
   ],
   "source": [
    "pl.plot(wl_solution[2,:],flux[2,:],'g')\n",
    "pl.ylabel(\"Counts [ADU]\")\n",
    "pl.xlabel(\"Wavelength [$\\AA$]\")\n",
    "pl.show()"
   ]
  },
  {
   "cell_type": "code",
   "execution_count": 25,
   "metadata": {},
   "outputs": [],
   "source": [
    "#Continumm Normalization \n",
    "\n",
    "import matplotlib.pyplot as plt \n",
    "import numpy as np \n",
    "from astropy.modeling import models\n",
    "from astropy import units as u\n",
    "from specutils.spectra import Spectrum1D, SpectralRegion\n",
    "from specutils.fitting import fit_generic_continuum\n"
   ]
  },
  {
   "cell_type": "code",
   "execution_count": 3,
   "metadata": {},
   "outputs": [],
   "source": [
    "wl_solution = fits.getdata('http://caltech-ipac.github.io/hiresprv/_static/keck_rwav.fits')\n",
    "wl_solution = np.append(wl_solution[0],[wl_solution[i] for i in range(1,16)])"
   ]
  },
  {
   "cell_type": "code",
   "execution_count": 19,
   "metadata": {},
   "outputs": [
    {
     "data": {
      "text/plain": [
       "{'status': 'ok', 'msg': ''}"
      ]
     },
     "execution_count": 19,
     "metadata": {},
     "output_type": "execute_result"
    }
   ],
   "source": [
    "data.download(\"deblazed/r20071124.121.fits\")"
   ]
  },
  {
   "cell_type": "code",
   "execution_count": 4,
   "metadata": {},
   "outputs": [],
   "source": [
    "deblazedFlux = fits.getdata(\"output/r20071124.121.fits\")\n",
    "deblazedFlux = np.append(deblazedFlux[0],[deblazedFlux[i] for i in range(1,16)])/9.0e3"
   ]
  },
  {
   "cell_type": "code",
   "execution_count": 5,
   "metadata": {},
   "outputs": [
    {
     "name": "stderr",
     "output_type": "stream",
     "text": [
      "WARNING: Model is linear in parameters; consider using linear fitting methods. [astropy.modeling.fitting]\n",
      "WARNING:astropy:Model is linear in parameters; consider using linear fitting methods.\n"
     ]
    },
    {
     "data": {
      "text/plain": [
       "<matplotlib.legend.Legend at 0x25143dcb7f0>"
      ]
     },
     "execution_count": 5,
     "metadata": {},
     "output_type": "execute_result"
    },
    {
     "data": {
      "image/png": "[encoded data removed]",
      "text/plain": [
       "<Figure size 432x288 with 1 Axes>"
      ]
     },
     "metadata": {
      "needs_background": "light"
     },
     "output_type": "display_data"
    }
   ],
   "source": [
    "\n",
    "x = wl_solution\n",
    "y = deblazedFlux\n",
    "plt.plot(x, y, label = 'My Data', c='C0')\n",
    "\n",
    "spectrum = Spectrum1D(flux=y*u.Jy, spectral_axis=x*u.um)\n",
    "g1_fit = fit_generic_continuum(spectrum)\n",
    "y_fit = g1_fit(x*u.um)\n",
    "\n",
    "plt.plot(x, y_fit, label = ' Specutils Continuum Fit', c='C1')\n",
    "plt.legend()"
   ]
  },
  {
   "cell_type": "code",
   "execution_count": 69,
   "metadata": {},
   "outputs": [
    {
     "ename": "SyntaxError",
     "evalue": "invalid syntax (<ipython-input-69-ea4fa3aa7c87>, line 2)",
     "output_type": "error",
     "traceback": [
      "\u001b[1;36m  File \u001b[1;32m\"<ipython-input-69-ea4fa3aa7c87>\"\u001b[1;36m, line \u001b[1;32m2\u001b[0m\n\u001b[1;33m    plt.legend()\u001b[0m\n\u001b[1;37m    ^\u001b[0m\n\u001b[1;31mSyntaxError\u001b[0m\u001b[1;31m:\u001b[0m invalid syntax\n"
     ]
    }
   ],
   "source": [
    "plt.plot(x,y - y_fit/u.Jy,label = 'contrinum subtracted')\\\n",
    "plt.legend()\n",
    "plt.show()"
   ]
  },
  {
   "cell_type": "code",
   "execution_count": 7,
   "metadata": {},
   "outputs": [],
   "source": [
    "normalizedFlux = y - y_fit/u.Jy"
   ]
  },
  {
   "cell_type": "code",
   "execution_count": null,
   "metadata": {},
   "outputs": [],
   "source": [
    "#Cross-corrlate "
   ]
  },
  {
   "cell_type": "code",
   "execution_count": null,
   "metadata": {},
   "outputs": [],
   "source": [
    "#-================================="
   ]
  },
  {
   "cell_type": "code",
   "execution_count": 3,
   "metadata": {},
   "outputs": [],
   "source": [
    "h = fits.open(\"output/r20071124.121.fits\")"
   ]
  },
  {
   "cell_type": "code",
   "execution_count": 7,
   "metadata": {},
   "outputs": [],
   "source": [
    "h = fits.open(\"output/r20071124.121.fits\")\n",
    "hdu = h[0]\n",
    "hdu.header"
   ]
  },
  {
   "cell_type": "code",
   "execution_count": 2,
   "metadata": {},
   "outputs": [],
   "source": [
    "import math\n",
    "math.log10()"
   ]
  },
  {
   "cell_type": "code",
   "execution_count": 2,
   "metadata": {},
   "outputs": [],
   "source": [
    "#Interpolate"
   ]
  },
  {
   "cell_type": "code",
   "execution_count": 8,
   "metadata": {},
   "outputs": [],
   "source": [
    "d = {\"Hello\":(0,1),\"There\":(2,3)}"
   ]
  },
  {
   "cell_type": "code",
   "execution_count": 22,
   "metadata": {},
   "outputs": [],
   "source": [
    "fluxnorm = [np.float64(i) for i in normalizedFlux]"
   ]
  },
  {
   "cell_type": "code",
   "execution_count": 9,
   "metadata": {},
   "outputs": [
    {
     "ename": "NameError",
     "evalue": "name 'spectraDic' is not defined",
     "output_type": "error",
     "traceback": [
      "\u001b[1;31m---------------------------------------------------------------------------\u001b[0m",
      "\u001b[1;31mNameError\u001b[0m                                 Traceback (most recent call last)",
      "\u001b[1;32m<ipython-input-9-dcaf4ebe2c8c>\u001b[0m in \u001b[0;36m<module>\u001b[1;34m\u001b[0m\n\u001b[0;32m      1\u001b[0m \u001b[0mwlDic\u001b[0m \u001b[1;33m=\u001b[0m \u001b[1;33m{\u001b[0m\u001b[1;33m}\u001b[0m\u001b[1;33m\u001b[0m\u001b[1;33m\u001b[0m\u001b[0m\n\u001b[0;32m      2\u001b[0m \u001b[0mfluxDic\u001b[0m \u001b[1;33m=\u001b[0m \u001b[1;33m{\u001b[0m\u001b[1;33m}\u001b[0m\u001b[1;33m\u001b[0m\u001b[1;33m\u001b[0m\u001b[0m\n\u001b[1;32m----> 3\u001b[1;33m \u001b[1;32mfor\u001b[0m \u001b[0mHIRES_ID\u001b[0m \u001b[1;32min\u001b[0m \u001b[0mspectraDic\u001b[0m\u001b[1;33m:\u001b[0m\u001b[1;33m\u001b[0m\u001b[1;33m\u001b[0m\u001b[0m\n\u001b[0m\u001b[0;32m      4\u001b[0m     \u001b[0mwl\u001b[0m \u001b[1;33m=\u001b[0m \u001b[0mspectraDic\u001b[0m\u001b[1;33m[\u001b[0m\u001b[0mHIRES_ID\u001b[0m\u001b[1;33m]\u001b[0m\u001b[1;33m[\u001b[0m\u001b[1;36m0\u001b[0m\u001b[1;33m]\u001b[0m\u001b[1;33m\u001b[0m\u001b[1;33m\u001b[0m\u001b[0m\n\u001b[0;32m      5\u001b[0m     \u001b[0mflux\u001b[0m \u001b[1;33m=\u001b[0m \u001b[0mspectraDic\u001b[0m\u001b[1;33m[\u001b[0m\u001b[0mHIRES_ID\u001b[0m\u001b[1;33m]\u001b[0m\u001b[1;33m[\u001b[0m\u001b[1;36m1\u001b[0m\u001b[1;33m]\u001b[0m\u001b[1;33m\u001b[0m\u001b[1;33m\u001b[0m\u001b[0m\n",
      "\u001b[1;31mNameError\u001b[0m: name 'spectraDic' is not defined"
     ]
    }
   ],
   "source": [
    "wlDic = {}\n",
    "fluxDic = {}\n",
    "for HIRES_ID in spectraDic:\n",
    "    wl = spectraDic[HIRES_ID][0]\n",
    "    flux = spectraDic[HIRES_ID][1]\n",
    "    intfunc = interpolate.interp1d(wl,flux)\n",
    "    wlDic[HIRES_ID] = wl\n",
    "x    fluxDic[HIRES_ID] = intfunc(wl)\n",
    "\n",
    "return pd.DataFrame(wlDic), pd.DataFrame(fluxDic)\n",
    "    \n"
   ]
  },
  {
   "cell_type": "code",
   "execution_count": 16,
   "metadata": {},
   "outputs": [
    {
     "data": {
      "image/png": "[encoded data removed]",
      "text/plain": [
       "<Figure size 432x288 with 1 Axes>"
      ]
     },
     "metadata": {
      "needs_background": "light"
     },
     "output_type": "display_data"
    }
   ],
   "source": [
    "# get the interpolating function (you need to choose which type)\n",
    "intfunc = interpolate.interp1d(x,fluxnorm,assume_sorted = True)\n",
    "# plot interpolated data at high sampling\n",
    "start = 35236\n",
    "stop = 35336\n",
    "\n",
    "plt.plot(x[start:stop],fluxnorm[start:stop],label = \"Normalized Flux\")\n",
    "plt.plot(x[start:stop],intfunc(x)[start:stop],label = \"Interpolt\")\n",
    "plt.legend()\n",
    "plt.show()"
   ]
  },
  {
   "cell_type": "code",
   "execution_count": 15,
   "metadata": {},
   "outputs": [],
   "source": [
    "interpolate_over = [wl for wl in x if wl >= 5000 and wl<=6000]"
   ]
  },
  {
   "cell_type": "code",
   "execution_count": 23,
   "metadata": {},
   "outputs": [],
   "source": [
    "\n",
    "test_Interpolation = np.interp(interpolate_over,x,fluxnorm)"
   ]
  },
  {
   "cell_type": "code",
   "execution_count": 31,
   "metadata": {},
   "outputs": [
    {
     "data": {
      "image/png": "[encoded data removed]",
      "text/plain": [
       "<Figure size 432x288 with 1 Axes>"
      ]
     },
     "metadata": {
      "needs_background": "light"
     },
     "output_type": "display_data"
    }
   ],
   "source": [
    "start = 0\n",
    "stop  = 6500\n",
    "plt.plot(interpolate_over[start:stop],test_Interpolation[start:stop],label = \"interpolated\")\n",
    "plt.plot(x[start:stop],fluxnorm[start:stop],label = \"Normalized Flux\")\n",
    "plt.legend()\n",
    "plt.show()"
   ]
  },
  {
   "cell_type": "code",
   "execution_count": 3,
   "metadata": {},
   "outputs": [],
   "source": [
    "#Counts to Erg/s \n",
    "#If you know the total number of counts (N) collected and the total time (t, in seconds) over which \n",
    "#the photons were collected, the rate at which the photons were collected is N/t (with units of photons/second). \n",
    "#You also have the wavelength associated with each point in the spectrum, so you can convert that to \n",
    "#energy (ergs) using E = hc/lambda, where lambda is the wavelength of light.\n",
    "wl_solution = fits.getdata('http://caltech-ipac.github.io/hiresprv/_static/keck_rwav.fits')\n",
    "wl_solution = np.append(wl_solution[0],[wl_solution[i] for i in range(1,16)])\n",
    "deblazedFlux = fits.getdata(\"output/r20071124.121.fits\")\n",
    "deblazedFlux = np.append(deblazedFlux[0],[deblazedFlux[i] for i in range(1,16)])"
   ]
  },
  {
   "cell_type": "code",
   "execution_count": 8,
   "metadata": {},
   "outputs": [],
   "source": [
    "hdu = fits.open(\"output/r20071124.121.fits\")\n",
    "timeElapsed = hdu[0].header[\"ELAPTIME\"]"
   ]
  },
  {
   "cell_type": "code",
   "execution_count": 9,
   "metadata": {},
   "outputs": [],
   "source": [
    "photonsPersec = deblazedFlux/timeElapsed"
   ]
  },
  {
   "cell_type": "code",
   "execution_count": 65,
   "metadata": {},
   "outputs": [],
   "source": [
    "ergsPerSecFlux = []\n",
    "for i in range(len(photonsPersec)):\n",
    "    photonEnergy = 1.2398 / (wl_solution[i]*0.0001) #h*c = 1.2398 eV-µm\n",
    "    ergsPerSec = photonEnergy*photonsPersec[i]\n",
    "    ergsPerSecFlux.append(ergsPerSec)\n",
    "ergsPerSecFlux = np.array(ergsPerSecFlux)"
   ]
  },
  {
   "cell_type": "code",
   "execution_count": 66,
   "metadata": {},
   "outputs": [
    {
     "data": {
      "image/png": "[encoded data removed]",
      "text/plain": [
       "<Figure size 432x288 with 1 Axes>"
      ]
     },
     "metadata": {
      "needs_background": "light"
     },
     "output_type": "display_data"
    }
   ],
   "source": [
    "start = 50\n",
    "stop  = len(wl_solution)-1\n",
    "plt.plot(wl_solution[start:stop],ergsPerSecFlux[start:stop])\n",
    "plt.show()"
   ]
  },
  {
   "cell_type": "code",
   "execution_count": 67,
   "metadata": {},
   "outputs": [
    {
     "name": "stderr",
     "output_type": "stream",
     "text": [
      "WARNING: Model is linear in parameters; consider using linear fitting methods. [astropy.modeling.fitting]\n",
      "WARNING:astropy:Model is linear in parameters; consider using linear fitting methods.\n"
     ]
    },
    {
     "data": {
      "text/plain": [
       "<matplotlib.legend.Legend at 0x1ccd183bb50>"
      ]
     },
     "execution_count": 67,
     "metadata": {},
     "output_type": "execute_result"
    },
    {
     "data": {
      "image/png": "[encoded data removed]",
      "text/plain": [
       "<Figure size 432x288 with 1 Axes>"
      ]
     },
     "metadata": {
      "needs_background": "light"
     },
     "output_type": "display_data"
    }
   ],
   "source": [
    "x = wl_solution\n",
    "y = ergsPerSecFlux\n",
    "plt.plot(x, y, label = 'My Data', c='C0')\n",
    "\n",
    "spectrum = Spectrum1D(flux=y*u.Jy, spectral_axis=x*u.um)\n",
    "g1_fit = fit_generic_continuum(spectrum)\n",
    "y_fit = g1_fit(x*u.um)\n",
    "\n",
    "plt.plot(x, y_fit, label = ' Specutils Continuum Fit', c='C1')\n",
    "plt.legend()"
   ]
  },
  {
   "cell_type": "code",
   "execution_count": 68,
   "metadata": {},
   "outputs": [
    {
     "data": {
      "image/png": "[encoded data removed]",
      "text/plain": [
       "<Figure size 432x288 with 1 Axes>"
      ]
     },
     "metadata": {
      "needs_background": "light"
     },
     "output_type": "display_data"
    }
   ],
   "source": [
    "plt.plot(x,y - y_fit/u.Jy,label = 'contrinum subtracted')\n",
    "plt.show()"
   ]
  },
  {
   "cell_type": "code",
   "execution_count": 5,
   "metadata": {},
   "outputs": [],
   "source": [
    "\n",
    "t = np.array([-420,12,-1000,3])"
   ]
  },
  {
   "cell_type": "code",
   "execution_count": 6,
   "metadata": {},
   "outputs": [
    {
     "data": {
      "text/plain": [
       "-1000"
      ]
     },
     "execution_count": 6,
     "metadata": {},
     "output_type": "execute_result"
    }
   ],
   "source": [
    "t.min()"
   ]
  },
  {
   "cell_type": "code",
   "execution_count": 7,
   "metadata": {},
   "outputs": [],
   "source": [
    "maxMinVal = float('-inf')\n",
    "minMaxVal = float('inf')\n"
   ]
  },
  {
   "cell_type": "code",
   "execution_count": 9,
   "metadata": {},
   "outputs": [
    {
     "data": {
      "text/plain": [
       "-inf"
      ]
     },
     "execution_count": 9,
     "metadata": {},
     "output_type": "execute_result"
    }
   ],
   "source": []
  },
  {
   "cell_type": "code",
   "execution_count": 23,
   "metadata": {},
   "outputs": [],
   "source": [
    "dictest = {'OP':(\"23432\",1),\".GG\":(2,3)}"
   ]
  },
  {
   "cell_type": "code",
   "execution_count": 24,
   "metadata": {},
   "outputs": [
    {
     "name": "stdout",
     "output_type": "stream",
     "text": [
      "('23432', 1)\n",
      "(2, 3)\n"
     ]
    }
   ],
   "source": [
    "for val in dictest.values():\n",
    "    print(val)"
   ]
  },
  {
   "cell_type": "code",
   "execution_count": 20,
   "metadata": {},
   "outputs": [
    {
     "data": {
      "text/plain": [
       "'OP'"
      ]
     },
     "execution_count": 20,
     "metadata": {},
     "output_type": "execute_result"
    }
   ],
   "source": [
    "next(iter(dictest))"
   ]
  },
  {
   "cell_type": "code",
   "execution_count": 25,
   "metadata": {},
   "outputs": [
    {
     "data": {
      "text/plain": [
       "5"
      ]
     },
     "execution_count": 25,
     "metadata": {},
     "output_type": "execute_result"
    }
   ],
   "source": [
    "len(dictest[\"OP\"][0])"
   ]
  },
  {
   "cell_type": "code",
   "execution_count": 21,
   "metadata": {},
   "outputs": [
    {
     "name": "stdout",
     "output_type": "stream",
     "text": [
      "(0, 1)\n",
      "(2, 3)\n"
     ]
    }
   ],
   "source": [
    "k = next(iter(dictest))\n",
    "for i in dictest.values():\n",
    "    print(i)"
   ]
  },
  {
   "cell_type": "code",
   "execution_count": 26,
   "metadata": {},
   "outputs": [],
   "source": [
    "d = [23,231,123,1,23,4,5]"
   ]
  },
  {
   "cell_type": "code",
   "execution_count": 27,
   "metadata": {},
   "outputs": [
    {
     "ename": "IndexError",
     "evalue": "list index out of range",
     "output_type": "error",
     "traceback": [
      "\u001b[1;31m---------------------------------------------------------------------------\u001b[0m",
      "\u001b[1;31mIndexError\u001b[0m                                Traceback (most recent call last)",
      "\u001b[1;32m<ipython-input-27-18d08b55db42>\u001b[0m in \u001b[0;36m<module>\u001b[1;34m\u001b[0m\n\u001b[1;32m----> 1\u001b[1;33m \u001b[0md\u001b[0m\u001b[1;33m[\u001b[0m\u001b[0mlen\u001b[0m\u001b[1;33m(\u001b[0m\u001b[0md\u001b[0m\u001b[1;33m)\u001b[0m\u001b[1;33m]\u001b[0m\u001b[1;33m\u001b[0m\u001b[1;33m\u001b[0m\u001b[0m\n\u001b[0m",
      "\u001b[1;31mIndexError\u001b[0m: list index out of range"
     ]
    }
   ],
   "source": [
    "d[len(d)]"
   ]
  },
  {
   "cell_type": "code",
   "execution_count": null,
   "metadata": {},
   "outputs": [],
   "source": []
  }
 ],
 "metadata": {
  "kernelspec": {
   "display_name": "Python 3",
   "language": "python",
   "name": "python3"
  },
  "language_info": {
   "codemirror_mode": {
    "name": "ipython",
    "version": 3
   },
   "file_extension": ".py",
   "mimetype": "text/x-python",
   "name": "python",
   "nbconvert_exporter": "python",
   "pygments_lexer": "ipython3",
   "version": "3.8.5"
  }
 },
 "nbformat": 4,
 "nbformat_minor": 4
}
